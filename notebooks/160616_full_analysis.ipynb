{
 "cells": [
  {
   "cell_type": "code",
   "execution_count": 50,
   "metadata": {
    "collapsed": false
   },
   "outputs": [
    {
     "name": "stdout",
     "output_type": "stream",
     "text": [
      "Populating the interactive namespace from numpy and matplotlib\n"
     ]
    },
    {
     "name": "stderr",
     "output_type": "stream",
     "text": [
      "/usr/local/lib/python2.7/dist-packages/IPython/core/magics/pylab.py:161: UserWarning: pylab import has clobbered these variables: ['f', 'Text', 'Button', 'Widget', 'interactive', 'e']\n",
      "`%matplotlib` prevents importing * from pylab and numpy\n",
      "  \"\\n`%matplotlib` prevents importing * from pylab and numpy\"\n"
     ]
    }
   ],
   "source": [
    "%pylab inline\n",
    "e = 1.602e-19 #electronic charge\n",
    "h = 6.63e-34 #Planck's constant\n",
    "e0 = 8.85e-12 #Permittivity of free space\n",
    "m0 = 9.11e-31 #Free electron mass\n",
    "kb = 1.381e-23 #Boltsmann's constant\n",
    "hbar = h/(2*pi)"
   ]
  },
  {
   "cell_type": "code",
   "execution_count": 2,
   "metadata": {
    "collapsed": true
   },
   "outputs": [],
   "source": [
    "import os\n",
    "import sys\n",
    "import csv\n",
    "scripts_path = os.path.abspath(os.path.join('../scripts/'))\n",
    "data_path = os.path.abspath(os.path.join('../data/'))\n",
    "sys.path.append(scripts_path)\n",
    "sys.path.append(data_path)\n",
    "    "
   ]
  },
  {
   "cell_type": "code",
   "execution_count": 3,
   "metadata": {
    "collapsed": false
   },
   "outputs": [
    {
     "data": {
      "text/plain": [
       "'/home/treharne/Documents/projects/SAZO/scripts'"
      ]
     },
     "execution_count": 3,
     "metadata": {},
     "output_type": "execute_result"
    }
   ],
   "source": [
    "scripts_path"
   ]
  },
  {
   "cell_type": "code",
   "execution_count": 4,
   "metadata": {
    "collapsed": false
   },
   "outputs": [],
   "source": [
    "T_data = data_path + '/T/160616_C_extracted.txt'\n",
    "R_data = data_path + '/4PP/160616_C.dat'\n",
    "XPS_data = data_path + '/XPS/160616-C_XPS_100pt_2.csv'"
   ]
  },
  {
   "cell_type": "code",
   "execution_count": 5,
   "metadata": {
    "collapsed": false
   },
   "outputs": [],
   "source": [
    "def read_T_data(path):\n",
    "    f = open (path, 'rb')\n",
    "    reader = csv.reader(f)\n",
    "    data = []\n",
    "    data_dict = {}\n",
    "    x, y = relabel_T_coords()\n",
    "    coords = np.transpose([x,y])\n",
    "   \n",
    "    for i, line in zip(coords, reader):\n",
    "       \n",
    "        item = [float(x) for x in line[0].split(' ')]\n",
    "        \n",
    "        data_dict['%s %s' % (i[0], i[1])] = {'x': i[0], \n",
    "                                             'y': i[1],\n",
    "                                             'd': item[2],\n",
    "                                             'wp': item[3]}\n",
    "                                            \n",
    "    return data_dict\n"
   ]
  },
  {
   "cell_type": "code",
   "execution_count": 6,
   "metadata": {
    "collapsed": false
   },
   "outputs": [],
   "source": [
    "def read_R_data(path):\n",
    "    f = open(path, 'rb')\n",
    "    reader = csv.reader(f)\n",
    "    headers = reader.next()\n",
    "    data = []\n",
    "    data_dict = {}\n",
    "    x, y = relabel_T_coords()\n",
    "    coords = np.transpose([x,y])\n",
    "    for i, line in zip(coords, reader):\n",
    "        \n",
    "        \n",
    "        \n",
    "        item = []\n",
    "        for x in line:\n",
    "            try:\n",
    "                item.append(float(x))\n",
    "                \n",
    "        \n",
    "            except:\n",
    "                item.append(None)\n",
    "                \n",
    "        if item[2]:\n",
    "            item[2] = item[2]*4.532\n",
    "        \n",
    "        data_dict['%s %s' % (line[0], line[1])] = {'x': line[0], \n",
    "                                                   'y': line[1],\n",
    "                                                   'Rs': item[2]}\n",
    "    return data_dict\n",
    "                                             \n",
    "        "
   ]
  },
  {
   "cell_type": "code",
   "execution_count": 7,
   "metadata": {
    "collapsed": false
   },
   "outputs": [],
   "source": [
    "def relabel_T_coords():\n",
    "    x = []\n",
    "    y = []\n",
    "    for i in range(0, 10):\n",
    "    \n",
    "        for j in range(0, 10):\n",
    "            x.append((j-4.5)*10)\n",
    "            y.append((4.5-i)*10)\n",
    "    \n",
    "    \n",
    "    return x, y"
   ]
  },
  {
   "cell_type": "code",
   "execution_count": 8,
   "metadata": {
    "collapsed": false
   },
   "outputs": [],
   "source": [
    "extracted_T = read_T_data(T_data)\n",
    "extracted_R = read_R_data(R_data)"
   ]
  },
  {
   "cell_type": "code",
   "execution_count": 9,
   "metadata": {
    "collapsed": false
   },
   "outputs": [],
   "source": [
    "def getxyz(data, param):\n",
    "    count = 0\n",
    "    x = []\n",
    "    y = []\n",
    "    z = []\n",
    "    for key in data.keys():\n",
    "        x.append(data.get(key, None).get('x', None))\n",
    "        y.append(data.get(key, None).get('y', None))\n",
    "        z.append(data.get(key, None).get(param, None))\n",
    "    return x, y, z\n",
    "    \n",
    "    "
   ]
  },
  {
   "cell_type": "code",
   "execution_count": 10,
   "metadata": {
    "collapsed": false
   },
   "outputs": [],
   "source": [
    "def contour_plot(data, param, res=50, scale='linear'):\n",
    "    x, y, z = getxyz(data, param)\n",
    "    zlabel = None\n",
    "    \n",
    "    if scale == 'log':\n",
    "        for i in range (0, len(z)):\n",
    "            try: \n",
    "                z[i] = np.log10(z[i])\n",
    "            except:\n",
    "                z[i] = None\n",
    "                \n",
    "    if param == 'ne':\n",
    "        zlabel='Carrier Conc., $n_e$ (cm$^{-3}$)'\n",
    "        for i in range(0, len(z)):\n",
    "            try:\n",
    "                z[i] = z[i]/1e20\n",
    "            except:\n",
    "                z[i] = None\n",
    "    elif param =='mob':\n",
    "        zlabel='Mobility, $\\mu_e$ (cm$^{2}$V$^{-1}$s$^{-1}$)'\n",
    "    elif param =='d':\n",
    "        zlabel='Film Thickness, $d$ (nm)'\n",
    "    \n",
    "    xi = np.linspace(min(x), max(x), res)\n",
    "    yi = np.linspace(min(y), max(y), res)\n",
    "    zi = griddata(x, y, z, xi, yi)\n",
    "    \n",
    "    fig = figure(figsize=(9,7))\n",
    "    ax = fig.add_subplot(111)\n",
    "    ax.set_aspect('equal')\n",
    "\n",
    "    S = ax.contour(xi, yi, zi, 10, colors='k')\n",
    "    CF = ax.contourf(xi, yi, zi, 50, cmap='gist_rainbow')\n",
    "    ax.clabel(S, fontsize=15, fmt='%1.1f')\n",
    "    CB = colorbar(CF,  format='%1.1f')\n",
    "    CB.ax.tick_params(labelsize=15)\n",
    "    if zlabel:\n",
    "        CB.set_label(zlabel, fontsize=18)\n",
    "\n",
    "    ax.set_xlabel('x (mm)', fontsize=15)\n",
    "    ax.set_ylabel('y (mm)', fontsize=15)\n",
    "    ax.tick_params(labelsize=15)"
   ]
  },
  {
   "cell_type": "code",
   "execution_count": 11,
   "metadata": {
    "collapsed": false
   },
   "outputs": [],
   "source": [
    "def merge_dict(dict1, dict2):\n",
    "    dict3 = {}\n",
    "    for key in dict1.keys():\n",
    "        d = dict1.get(key).copy()\n",
    "        d.update(dict2.get(key))\n",
    "        dict3[key] = d\n",
    "    return dict3\n",
    "        \n",
    "        "
   ]
  },
  {
   "cell_type": "code",
   "execution_count": 12,
   "metadata": {
    "collapsed": false
   },
   "outputs": [],
   "source": [
    "merged = merge_dict(extracted_R, extracted_T)"
   ]
  },
  {
   "cell_type": "code",
   "execution_count": 13,
   "metadata": {
    "collapsed": false
   },
   "outputs": [],
   "source": [
    "def get_ne(data_dict, mstar = 0.38, varepsilon = 4):\n",
    "    \n",
    "    for key in data_dict.keys():\n",
    "              \n",
    "        #from wp calculate ne and convert to cm^-3\n",
    "        #wp currently in units eV\n",
    "        wpeV = data_dict[key].get('wp')\n",
    "        wp = (wpeV*e)*2*pi/h\n",
    "        \n",
    "        #calculate ne\n",
    "        \n",
    "        ne = (wp**2*mstar*m0*e0/e**2)/1e6\n",
    "        \n",
    "        #add to original dictionary\n",
    "        #data_dict[key]['ne'] = ne\n",
    "        data_dict[key]['ne'] = ne\n",
    "        \n",
    "        "
   ]
  },
  {
   "cell_type": "code",
   "execution_count": 14,
   "metadata": {
    "collapsed": false
   },
   "outputs": [],
   "source": [
    "def get_rho(data_dict):\n",
    "    for  key in data_dict.keys():\n",
    "        Rs = data_dict[key].get('Rs')\n",
    "        d = data_dict[key].get('d')\n",
    "        try:\n",
    "            rho = Rs*(d*1e-7)        \n",
    "            data_dict[key]['rho'] = rho\n",
    "        except:\n",
    "            data_dict[key]['rho'] = None\n",
    "        \n",
    "    "
   ]
  },
  {
   "cell_type": "code",
   "execution_count": 15,
   "metadata": {
    "collapsed": false
   },
   "outputs": [],
   "source": [
    "get_rho(merged)"
   ]
  },
  {
   "cell_type": "code",
   "execution_count": 16,
   "metadata": {
    "collapsed": false
   },
   "outputs": [],
   "source": [
    "def get_mob(data_dict):\n",
    "    for key in data_dict.keys():\n",
    "        try:\n",
    "            rho = data_dict[key].get('rho')\n",
    "            ne = data_dict[key].get('ne')\n",
    "            mob = 1/(ne*e*rho)\n",
    "            data_dict[key]['mob'] = mob\n",
    "        except:\n",
    "            data_dict[key]['mob'] = None\n",
    "            \n",
    "    "
   ]
  },
  {
   "cell_type": "code",
   "execution_count": 17,
   "metadata": {
    "collapsed": true
   },
   "outputs": [],
   "source": [
    "get_ne(merged)\n",
    "get_mob(merged)"
   ]
  },
  {
   "cell_type": "code",
   "execution_count": 18,
   "metadata": {
    "collapsed": false
   },
   "outputs": [],
   "source": [
    "\n",
    "#contour_plot(merged, 'd')\n"
   ]
  },
  {
   "cell_type": "code",
   "execution_count": 19,
   "metadata": {
    "collapsed": false
   },
   "outputs": [],
   "source": [
    "def plot_scatter(data_dict):\n",
    "    ne = []\n",
    "    mob = []\n",
    "    d= []\n",
    "    cond = []\n",
    "    for key in data_dict.keys():\n",
    "        try:\n",
    "            c = 1/data_dict[key].get('rho') \n",
    "            cond.append(c)\n",
    "            \n",
    "        \n",
    "            \n",
    "            ne.append(data_dict[key].get('ne'))\n",
    "            mob.append(data_dict[key].get('mob'))\n",
    "            d.append(data_dict[key].get('d'))\n",
    "            \n",
    "            \n",
    "        except:\n",
    "            next\n",
    "        \n",
    "    fig = figure(figsize=(11,7))\n",
    "    ax = fig.add_subplot(111)\n",
    "    sizes = [50]*len(ne)\n",
    "    \n",
    "    sc = ax.scatter(ne, mob, c=d, s=sizes)\n",
    "    ax.set_xlabel('$n_e$ (cm$^{-3}$)', size=18)\n",
    "    ax.set_ylabel('$\\mu_e$ (cm$^{2}$V$^{-1}$s$^{-1}$)', size=18)\n",
    "    ax.tick_params(labelsize=15)\n",
    "    CB = colorbar(sc)\n",
    "    CB.set_label('Thickness, $d$ (nm)', size=18)\n",
    "    CB.ax.tick_params(labelsize=15)\n",
    "    \n",
    "    \n",
    "    \n",
    "        \n",
    "        \n",
    "    \n",
    "            "
   ]
  },
  {
   "cell_type": "code",
   "execution_count": 20,
   "metadata": {
    "collapsed": false
   },
   "outputs": [],
   "source": [
    "\n",
    "#plot_scatter(merged)"
   ]
  },
  {
   "cell_type": "code",
   "execution_count": 21,
   "metadata": {
    "collapsed": false
   },
   "outputs": [],
   "source": [
    "#contour_plot(merged, 'd')"
   ]
  },
  {
   "cell_type": "code",
   "execution_count": 22,
   "metadata": {
    "collapsed": false
   },
   "outputs": [],
   "source": [
    "#contour_plot(merged, 'ne')"
   ]
  },
  {
   "cell_type": "code",
   "execution_count": 23,
   "metadata": {
    "collapsed": false
   },
   "outputs": [],
   "source": [
    "#contour_plot(merged, 'mob')"
   ]
  },
  {
   "cell_type": "code",
   "execution_count": 24,
   "metadata": {
    "collapsed": false
   },
   "outputs": [],
   "source": [
    "def get_XPS(path):\n",
    "    f = open (path, 'rb')\n",
    "    reader = csv.reader(f)\n",
    "    data = []\n",
    "    data_dict = {}\n",
    "    #x, y = relabel_T_coords()\n",
    "    header = reader.next()\n",
    "    print header\n",
    "       \n",
    "   \n",
    "    for line in reader:\n",
    "        \n",
    "        \n",
    "        item = [float(x) for x in line[:3]]\n",
    "        \n",
    "        \n",
    "        \n",
    "        data_dict['%s %s' % (item[0], item[1])] = {'x': item[0], \n",
    "                                                   'y': item[1],\n",
    "                                                   'z': item[2]}\n",
    "                                             #'wp': item[3]}\n",
    "                                            \n",
    "    return data_dict\n",
    "    "
   ]
  },
  {
   "cell_type": "code",
   "execution_count": 25,
   "metadata": {
    "collapsed": false
   },
   "outputs": [
    {
     "name": "stdout",
     "output_type": "stream",
     "text": [
      "['x', 'y', '', 'C 1s at%', 'O 1s at%', 'Zn 2p at%', 'Cl 2p at%', 'S 2p at%', '', '', '']\n"
     ]
    }
   ],
   "source": [
    "comp = get_XPS(XPS_data)\n"
   ]
  },
  {
   "cell_type": "code",
   "execution_count": 26,
   "metadata": {
    "collapsed": false,
    "scrolled": true
   },
   "outputs": [
    {
     "name": "stdout",
     "output_type": "stream",
     "text": [
      "do nothing\n",
      "do nothing\n",
      "do nothing\n"
     ]
    },
    {
     "data": {
      "text/plain": [
       "[None,\n",
       " None,\n",
       " None,\n",
       " None,\n",
       " None,\n",
       " None,\n",
       " None,\n",
       " None,\n",
       " None,\n",
       " None,\n",
       " None,\n",
       " None,\n",
       " None,\n",
       " None]"
      ]
     },
     "execution_count": 26,
     "metadata": {},
     "output_type": "execute_result"
    },
    {
     "data": {
      "image/png": "[encoded data removed]",
      "text/plain": [
       "<matplotlib.figure.Figure at 0x7f25153f2d10>"
      ]
     },
     "metadata": {},
     "output_type": "display_data"
    }
   ],
   "source": [
    "\n",
    "x = []\n",
    "n = []\n",
    "mob = []\n",
    "rho = []\n",
    "for item in comp:\n",
    "    c = comp[item].get('z', None)*100\n",
    "    ln = merged[item].get('ne', None)/1e20\n",
    "    \n",
    "    if (c>1 and ln<2):\n",
    "        print 'do nothing'\n",
    "    else:\n",
    "        x.append(comp[item].get('z', None)*100)\n",
    "        n.append(merged[item].get('ne', None)/1e20)\n",
    "        mob.append(merged[item].get('mob', None))\n",
    "        rho.append(merged[item].get('rho', None))\n",
    "\n",
    "\n",
    "xx = np.linspace(0,0.06,100)\n",
    "\n",
    "yy = []\n",
    "nZnO = 81.408\n",
    "nAl = 26.981\n",
    "rhoZnO = 5.61\n",
    "\n",
    "for i in range(len(xx)):\n",
    "    yy.append((xx[i]*(rhoZnO/nZnO))*6.022e23)\n",
    "    \n",
    "\n",
    "\n",
    "\n",
    "f, (ax1, ax2, ax3) = plt.subplots(3, figsize=(10,30))\n",
    "f.subplots_adjust(hspace=0.05)\n",
    "\n",
    "ax1.plot(x,n, '+', markersize=18, color='black')\n",
    "ax1.set_ylim([0, 4.5])\n",
    "ax1.set_ylabel(r'$n_e$ ($\\times10^{20}$ cm$^{-3}$)', fontsize = 25, color='black')\n",
    "ax1.plot(np.array(xx)*100,np.array(yy)/1e20, '-')\n",
    "ax2.plot(x,mob, 'x', markersize=18, color='black')\n",
    "ax2.set_ylim([0, 22])\n",
    "ax2.set_ylabel(r'$\\mu_e$ (cm$^{2}$V$^{-1}$s$^{-1}$)', fontsize = 25, color='black')\n",
    "ax3.plot(x,rho,'s', markersize=18, color='black', fillstyle='none')\n",
    "ax3.set_ylabel(r'$\\rho$ ($\\Omega$.cm)', fontsize=25)\n",
    "ax3.set_yscale('log')\n",
    "ax3.set_xlabel('Al/Zn ratio (%)', fontsize = 25)\n",
    "ax1.tick_params(labelsize = 15)\n",
    "ax2.tick_params(labelsize = 15)\n",
    "ax3.tick_params(labelsize = 15)\n",
    "\n",
    "plt.setp([a.get_xticklabels() for a in f.axes[:-1]], visible=False)\n",
    "    \n",
    "#fig = figure(figsize=(7,7))\n",
    "#fig2 = figure(figsize=(9,7))\n",
    "#ax = fig.add_subplot(111)\n",
    "#ax3 = ax.twinx()\n",
    "#ax2 = fig2.add_subplot(111)\n",
    "#ax.plot(x,n, 'o')\n",
    "#ax.plot(np.array(xx)*100,yy)\n",
    "#ax3.plot(x,mob, 'o', color='red')\n",
    "#ax.set_yscale('log')\n",
    "#ax.set_xlim([0,5])\n",
    "#ax.set_ylim([0,5e20])\n",
    "#S =ax2.scatter(n,mob,c=x, s=50)\n",
    "#CB = colorbar(S)\n",
    "    \n",
    "    "
   ]
  },
  {
   "cell_type": "code",
   "execution_count": 160,
   "metadata": {
    "collapsed": false
   },
   "outputs": [
    {
     "data": {
      "image/png": "[encoded data removed]",
      "text/plain": [
       "<matplotlib.figure.Figure at 0x7f250e587490>"
      ]
     },
     "metadata": {},
     "output_type": "display_data"
    }
   ],
   "source": [
    "x = []\n",
    "n = []\n",
    "mob = []\n",
    "rho = []\n",
    "for item in comp:\n",
    "    c = comp[item].get('z', None)*100\n",
    "        \n",
    "    if (c>6):\n",
    "        print 'do nothing'\n",
    "    else:\n",
    "        x.append(comp[item].get('z', None)*100)\n",
    "        n.append(merged[item].get('ne', None)/1e20)\n",
    "        mob.append(merged[item].get('mob', None))\n",
    "        rho.append(merged[item].get('rho', None))\n",
    "\n",
    "fig = figure(figsize=(9,7))\n",
    "ax = fig.add_subplot(111)\n",
    "S =ax.scatter(n,mob,c=x, s=50)\n",
    "CB = colorbar(S)\n"
   ]
  },
  {
   "cell_type": "code",
   "execution_count": 180,
   "metadata": {
    "collapsed": false
   },
   "outputs": [],
   "source": [
    "#build an app to fit extended seto model\n",
    "\n",
    "def seto(x, nt, L, R=0, muii=0):\n",
    "    \n",
    "    einf = 4.0\n",
    "    T = 300\n",
    "    \n",
    "    mu0 = (e*L)/(sqrt(2*pi*0.38*m0*kb*T)) #internal mobility m2V-1s-1\n",
    "    \n",
    "    phiB = ((e**2*nt)/(8*einf*e0*array(x)*1e6)) # Barrier height in J\n",
    "\n",
    "    museto = 1e4*mu0*exp(-(phiB/(kb*T))) # Seto intergrain mobility cm2V-1s-1\n",
    "    \n",
    "    BM = (hbar**2*(3*pi**2*array(x)*1e26)**(2.0/3))/(2*m0*0.38)\n",
    "    \n",
    "    Rn = (R/1e13)*(array(x)*1e26)**(1.0/2)\n",
    "    \n",
    "    muext = 1e4*mu0*(exp(-(phiB/(kb*T)))+exp((BM-Rn-2*(phiB))/(kb*T)))\n",
    "    \n",
    "    mu = (1.0/(muext)+1.0/(muii))**(-1)\n",
    "    \n",
    "    \n",
    "    \n",
    "    return museto, muext, mu\n",
    "    "
   ]
  },
  {
   "cell_type": "code",
   "execution_count": 181,
   "metadata": {
    "collapsed": false
   },
   "outputs": [
    {
     "data": {
      "image/png": "[encoded data removed]",
      "text/plain": [
       "<matplotlib.figure.Figure at 0x7f2514231b90>"
      ]
     },
     "metadata": {},
     "output_type": "display_data"
    }
   ],
   "source": [
    "def plotnvsmob(nt, L, R, muii):\n",
    "    x = linspace (0.5,4.5, 100)\n",
    "    fig = figure(figsize(7,7))\n",
    "    ax = fig.add_subplot(111)\n",
    "    museto, muext, mu = seto(x, nt*1e14, L*1e-9, R=R*1.602e-19, muii=muii)\n",
    "    ax.plot(x, museto, '-')\n",
    "    ax.plot(x, muext, '-', color='red')\n",
    "    ax.plot(x, mu, '-', color='green')\n",
    "    ax.set_ylim([0,30])\n",
    "    S =ax.scatter(n,mob, s=50)\n",
    "    \n",
    "from ipywidgets import *\n",
    "nt_s = FloatSlider(min=0.01, max=10, step=0.01, value = 2)\n",
    "L_s = FloatSlider(min = .001, max = 2, step=0.0001, value = 1.0)\n",
    "R_s = FloatSlider(min=0, max=1, step = 0.01, value = 0.22)\n",
    "muii_s = FloatSlider(min=0.1, max=40, step=1, value = 30)\n",
    "\n",
    "\n",
    "interactive(plotnvsmob, nt=nt_s, L=L_s, R=R_s, muii=muii_s)\n",
    "\n",
    "\n"
   ]
  },
  {
   "cell_type": "code",
   "execution_count": null,
   "metadata": {
    "collapsed": true
   },
   "outputs": [],
   "source": []
  },
  {
   "cell_type": "code",
   "execution_count": null,
   "metadata": {
    "collapsed": true
   },
   "outputs": [],
   "source": []
  }
 ],
 "metadata": {
  "kernelspec": {
   "display_name": "Python 2",
   "language": "python",
   "name": "python2"
  },
  "language_info": {
   "codemirror_mode": {
    "name": "ipython",
    "version": 2
   },
   "file_extension": ".py",
   "mimetype": "text/x-python",
   "name": "python",
   "nbconvert_exporter": "python",
   "pygments_lexer": "ipython2",
   "version": "2.7.11+"
  },
  "widgets": {
   "state": {
    "00d26990b2764243ae9518b6259796b5": {
     "views": []
    },
    "00d2f2e0477a41c981dbaa32e941936a": {
     "views": []
    },
    "0145bc79ea4b4c50a1827c9dad2b4f0a": {
     "views": []
    },
    "0366d8497a29499da8b3fdc6acf90906": {
     "views": []
    },
    "03b518cf95c54fd29c459b402c48f876": {
     "views": []
    },
    "03b95c2359294120afc717bfe22617d8": {
     "views": []
    },
    "0552c7c0acaf47d2a29a7d8300ca7530": {
     "views": []
    },
    "05a71bd26d984ecba4933736326321b7": {
     "views": []
    },
    "0633021d9a7140b2ba599ed743c895b1": {
     "views": []
    },
    "06c9f5de363643c8a06c091d3c6b2cd2": {
     "views": []
    },
    "07cd4b09b3c1450d81a6ac31cf96c908": {
     "views": []
    },
    "08b13dede5784debaa770bd8b70b3a4f": {
     "views": []
    },
    "08ea501e28334fa191565bb27371e0d3": {
     "views": []
    },
    "08ea80363cf54f3fac343a7988f0472e": {
     "views": []
    },
    "0a71970d52854233be8a129363fbb42a": {
     "views": []
    },
    "0aa0b747fc404d9bb619471b3b6bd136": {
     "views": []
    },
    "0b04dd4567e5409180a31e94633cb0c1": {
     "views": []
    },
    "0b07152d548d4e399653554c6d47e778": {
     "views": []
    },
    "0b726a22e05d41448e7b42070a13eebd": {
     "views": []
    },
    "0c02aa001ffd4a45974e6fa4de2b21cc": {
     "views": []
    },
    "0c5bb81cc96940ebbc39516db24dc4d3": {
     "views": []
    },
    "0ccbe932cd9449a0a83a1f7747f1b790": {
     "views": []
    },
    "0cd078117a1d4971ae9aa28e99f0b49b": {
     "views": []
    },
    "0cd69ffbe60d415c8b1c90cdca6c3a37": {
     "views": []
    },
    "0d27c73f558049f7b6a88069e2c809ce": {
     "views": []
    },
    "0d3279772073480b9612f89582c4022a": {
     "views": []
    },
    "0d755a872ca544fca6ffbfb7799d053a": {
     "views": []
    },
    "0dc7cc8124c549aabf9becb200ec1788": {
     "views": []
    },
    "0f2ee32d509c40f9b11eabe406aadbbf": {
     "views": []
    },
    "104d79a0df1b469e8976d9e83a7d921e": {
     "views": []
    },
    "10565821609741c8a47e549f6d123a31": {
     "views": []
    },
    "1098c06d92224fd6bbf3ae307c9bb37a": {
     "views": []
    },
    "11e0e1d5e7884ad38a35574283952f50": {
     "views": []
    },
    "11e52b06e79a4b92897475f134566373": {
     "views": []
    },
    "1225e9554ea246a0a05f999b19b51ea0": {
     "views": []
    },
    "1325af33dbf14498ae515b15fb5b8a00": {
     "views": []
    },
    "13c41d6326964354891bedf2638197b7": {
     "views": []
    },
    "13f2449fcb6d43859715289074ce9c3c": {
     "views": []
    },
    "15100b3a6ba949c292c7dc414a0dbd21": {
     "views": []
    },
    "151075764269447dafd6c1847b883b5e": {
     "views": []
    },
    "152898e71ce64b6daddd021354cc8519": {
     "views": []
    },
    "158aa804f45647eabcb807fb24ce4362": {
     "views": []
    },
    "163f379106f141ecb866c007a05fa631": {
     "views": []
    },
    "16dfe70416f94c5f837040a18ec7b747": {
     "views": []
    },
    "171f60badfb144b58aaef4e6c63eb787": {
     "views": []
    },
    "173961af11b54cf580123939e89db1cb": {
     "views": []
    },
    "179f0d3159c24f85bd010f5b3c6f38bf": {
     "views": []
    },
    "17f82503d68e46489e7e918892197819": {
     "views": []
    },
    "1846c4b0fe6c466ca394286211001ecf": {
     "views": []
    },
    "18ac26ce3f7147eb8cf04d483af887de": {
     "views": []
    },
    "18b7d0e8f7b04b2ca497c2465d00a7ac": {
     "views": []
    },
    "18d34314079345f8910dc0196ee410b7": {
     "views": []
    },
    "194b8f8f98e946b98ace05ce29558bdc": {
     "views": []
    },
    "1a506d96e99f4893ad15f41323e5e74c": {
     "views": []
    },
    "1aa06cff08fe4dcaad7bd56cb5133a66": {
     "views": []
    },
    "1b367be0023445bf9001e78368b40678": {
     "views": []
    },
    "1b81a74d3cc445ceab1704a07743eb35": {
     "views": []
    },
    "1bc3635fc9314073833fbb0606a6b4dd": {
     "views": []
    },
    "1c3533366f064456ace9ddce5f6d4d29": {
     "views": []
    },
    "1dcf46523dee4d589fa758f3f40fc333": {
     "views": []
    },
    "1e093834fefa40a78366f7a06ce3cfb4": {
     "views": []
    },
    "1f60b40c18d64320a217e2d6ca7aacc3": {
     "views": []
    },
    "1fbad90a9914494892301157a2257b5e": {
     "views": []
    },
    "1fd1a6251a654f6e8f6156e667d02de0": {
     "views": []
    },
    "1ffde364e6f44aebaafde01ef2951067": {
     "views": []
    },
    "201d4b98d3b14432ab2428f65cb4438c": {
     "views": []
    },
    "203e8627e3da4a08bf92df1e2b3b4806": {
     "views": []
    },
    "209497c334814dcf8a0c5547d7cc8557": {
     "views": []
    },
    "20b674823aef4b04a6d5525b00529272": {
     "views": []
    },
    "20f35c08415f433d827ec82301027ee8": {
     "views": []
    },
    "213c6e4343f345478b5bedd9c1430285": {
     "views": []
    },
    "21dcdd9135cb49d08d4c826c7dfdca9a": {
     "views": []
    },
    "21e41cc8db3a4626b7139a97f91075c5": {
     "views": []
    },
    "22278a491baf4d058a13934a7d2f784b": {
     "views": []
    },
    "2253e8cc6b0f47d2abc5db7b4a276267": {
     "views": []
    },
    "2256703da938446bb9adb2d1d274e3f1": {
     "views": []
    },
    "22f9be3c59cd4369a784bb6e2a39f1d6": {
     "views": []
    },
    "237c56dab1404f15b119d3dd7eef399e": {
     "views": []
    },
    "23855b91b04f415b9b4f5772dbcfdb92": {
     "views": []
    },
    "23d924e97dd049eabd4dc6ac6ad50131": {
     "views": []
    },
    "24cc692df3ff4a3a833814522fcdd09f": {
     "views": []
    },
    "25eae7f7213f40cfb9f660ff83e90abe": {
     "views": []
    },
    "26095352b19f413eb9bdb86e2a9310d0": {
     "views": []
    },
    "2620d030c5a046e6bb7ffe0fc4b857e3": {
     "views": []
    },
    "2644386e47bf4726aa901c4ea33768c8": {
     "views": []
    },
    "2769571e6a7a4677843aa315cbee7159": {
     "views": []
    },
    "27dc678b9a8a418c9e9324680c094c28": {
     "views": []
    },
    "27e851fb419f4d309aa1637fec93884f": {
     "views": []
    },
    "281ada91dc284a5785bb8009393d5f6e": {
     "views": []
    },
    "283c5db9279349be832a42e1cccec6f6": {
     "views": []
    },
    "28c310ee7c334f9083aa1daf098dc2a3": {
     "views": []
    },
    "28ca1e45eb80452fb82b9fa56f086e79": {
     "views": []
    },
    "292cbfcaab4e4b56a2d670a129ec6283": {
     "views": []
    },
    "2a07638d1dec4656973abe6696854fcc": {
     "views": []
    },
    "2a380e4f83e24eae9b67010529a02549": {
     "views": []
    },
    "2a55233f8e4d4ef7a51dd0c422a70002": {
     "views": []
    },
    "2a5c0f9a2dbb4bc9af741fc795777d4c": {
     "views": []
    },
    "2ab25996576044ffb9cd8c3d995777f0": {
     "views": []
    },
    "2b593e65696c47e192b678fe73136cfa": {
     "views": []
    },
    "2b640ac3689d4ce1871b32b2fcb5a5f7": {
     "views": []
    },
    "2b65e7e854cf406fbe193b85235b3f8c": {
     "views": []
    },
    "2bebf493415a4068aa430e55f75f3e8b": {
     "views": []
    },
    "2c3c2d42000c482e9deb4a037bc08b5a": {
     "views": []
    },
    "2ca070678b2c4b24b12af9127adac0bd": {
     "views": []
    },
    "2cd2cdf5a6a94214bea383849fc3bc01": {
     "views": []
    },
    "2ceb8585c78c4346b6083e18c35d42ec": {
     "views": []
    },
    "2cf450d08e344403a5126da411257b7c": {
     "views": []
    },
    "2d26f0baa32146bca8f8a5876c190ba0": {
     "views": []
    },
    "2d335fb8789f464aaff72aac996756ca": {
     "views": []
    },
    "2d79e6a3a76d440dbcbe90b83c4b3e6c": {
     "views": []
    },
    "2dc3ed6c20eb47759b4172e07f2a0b30": {
     "views": []
    },
    "2f5ec966f5a2433b8bb3645574b36514": {
     "views": []
    },
    "2f6a904923214a65a295c179fc0d3487": {
     "views": []
    },
    "3076a26bffc14a22b094262674b42e25": {
     "views": []
    },
    "31064446ed984f32a24dec71824a48d8": {
     "views": []
    },
    "311e260001fb465892d508fea3cb33be": {
     "views": []
    },
    "315d2b46cdbf48629ca6a16a7d894e6e": {
     "views": []
    },
    "31dd3532d5004cfe8e83ceb7ecb65d93": {
     "views": []
    },
    "31e6c389526c4ce5af23761c087db829": {
     "views": []
    },
    "3215afe82f874a44bbd70cec7dd71b85": {
     "views": []
    },
    "331663f0b66b41528b5071a610e658fb": {
     "views": []
    },
    "3373619766ea4d959da45ca5145469f1": {
     "views": []
    },
    "33cc972b4e3f47e8b7eebfe3b91e57e6": {
     "views": []
    },
    "340b2af8f1734c75af8f18cf77f5ec9f": {
     "views": []
    },
    "34b2d8be10cf4d1993a6a0dbd74d7958": {
     "views": []
    },
    "35c4c3cd07324a1c940c7b6bbad8b3fb": {
     "views": []
    },
    "35f7d339cced46ea81511b65e828d003": {
     "views": []
    },
    "362248182254404aa2364a58df92e59a": {
     "views": []
    },
    "36dbf84b48f9454cbe02ac79b1cfb25c": {
     "views": []
    },
    "378a564c781f456bb164bdedadc357eb": {
     "views": []
    },
    "38790018aeda4103bd636ac60d10142c": {
     "views": []
    },
    "39a48bb876cd43d691cbf764b45b4037": {
     "views": []
    },
    "39a9d873ea634f5c9db76f30119460d9": {
     "views": []
    },
    "3a076f033ced4426a0eb6a28264be484": {
     "views": []
    },
    "3b4e6eb063db4548bf23e03659cb7a52": {
     "views": []
    },
    "3bfd0d19b99540b59278006295156303": {
     "views": []
    },
    "3d3099fd8ff3488f972416043c9de55d": {
     "views": []
    },
    "3d942cd44b4e4866a546118a5a6d4f3b": {
     "views": []
    },
    "3daa48e8d32b4ad0b4042f7d2780fcd9": {
     "views": []
    },
    "3e803b88bc2e4d768a3880ce3a2a0ab6": {
     "views": []
    },
    "3e82074c5e4c4ca4a7a8212dadc4f50d": {
     "views": []
    },
    "3e960bf60deb43c588228662803f2096": {
     "views": []
    },
    "3ec483772c0d4f50a1499cc385d4040f": {
     "views": []
    },
    "3ed9b024ff7749c6b8967a22153a5757": {
     "views": []
    },
    "3f07919b92224a069fcf46f5e836eb01": {
     "views": []
    },
    "3f0b6fb564b04c94a9f5f61b6bfca585": {
     "views": []
    },
    "3f9b75559de54e219232653442414fda": {
     "views": []
    },
    "4152ebd27ad54cd1bf84acc1d4bb3865": {
     "views": []
    },
    "416e5eb375fe471aaa1762fa31a21028": {
     "views": []
    },
    "41c8004f5f724fda8551f5b644a8c306": {
     "views": []
    },
    "4294e4b5ecb54130ba8121f8144bf0ce": {
     "views": []
    },
    "43c43d4f4a764461ade4bb0cf6aacb66": {
     "views": []
    },
    "43f5d21d3b4b46c5ad514545918e5489": {
     "views": []
    },
    "4547cb326bec4597854c1a9727926e4f": {
     "views": []
    },
    "457633d40e5a4795971d3eee930094f9": {
     "views": []
    },
    "469c235cdc694389b898fd891bbd114d": {
     "views": []
    },
    "46ab061d36074094940c03a59a92f886": {
     "views": []
    },
    "46b964254ba1490ca2880a862b0922c9": {
     "views": []
    },
    "4727a6807dfe4b3a860f7d460157536d": {
     "views": []
    },
    "47303a7c516144be938d6b29b3d4b561": {
     "views": []
    },
    "47973c7d41624986b6b50fd70ee1bc37": {
     "views": []
    },
    "482a1ce4b0434fd3b68b39ea781c916a": {
     "views": []
    },
    "48366e176fae4d809adec8a85100d18d": {
     "views": []
    },
    "485d86a3cf3d427ca31f10648881290e": {
     "views": []
    },
    "485dbe7568c84ac7968d216dc11b792a": {
     "views": []
    },
    "4a3771ff101041d2b879510f37e01918": {
     "views": []
    },
    "4a7f92806d6d43219b9e396f0fe3e1cd": {
     "views": []
    },
    "4a873935226f414984c3f818f5f09d0c": {
     "views": []
    },
    "4b8cb13c344a4c6b85ec509a566147cb": {
     "views": []
    },
    "4ba56ff501b64f43bf6cfd7d3bd1a9e2": {
     "views": []
    },
    "4c5048bc6c8f43f7948a63dc99d046c2": {
     "views": []
    },
    "4caa7bd3cc44475099e66fa92888ded3": {
     "views": []
    },
    "4cd6281a318a48f4bc3dd2683d2a024f": {
     "views": []
    },
    "4ce4c572157c4b62bb45fae6f81f2f21": {
     "views": []
    },
    "4d5ff361a1c4464b96b0817bd9c64475": {
     "views": []
    },
    "4de8009860444ee48a72b27c881292df": {
     "views": []
    },
    "4df03e272c7b438599030f20f0e2259e": {
     "views": []
    },
    "4e1e484630c34a9a9a415d48e64b3ae0": {
     "views": []
    },
    "4e4c9de74d414c2bb5a90d09d7af4b64": {
     "views": []
    },
    "4e9efb9ef31148468c8aadcaad0120b1": {
     "views": []
    },
    "4f2221c7e62e498eb182e00d5ed2723f": {
     "views": []
    },
    "4f32d8dfb6ff4334b1fdc9b898f786f8": {
     "views": []
    },
    "4fb1a5b2bc904ac38b3c6223d6945bfb": {
     "views": []
    },
    "4fd0d222c7134b35a93aba8416449430": {
     "views": []
    },
    "50073562759d4c789127cc139903e4d2": {
     "views": []
    },
    "503e14c64f2240c8b41c43307dc14614": {
     "views": []
    },
    "506cc5f7adc54a1fa5aad98a0eedebb2": {
     "views": []
    },
    "507d4f58b6034c44be1ba5b0db5cb209": {
     "views": []
    },
    "50ff70ddae454542a49ac8053c9b21ee": {
     "views": []
    },
    "5200ff97d1e042e4a7f4d7ac75d7e073": {
     "views": []
    },
    "52233dd0adef4ac983ee6c77be325f60": {
     "views": []
    },
    "52e5ccff6f0f4fd195c22217518e91fb": {
     "views": []
    },
    "5302472b514642658619a6e2a68a3740": {
     "views": []
    },
    "53661cbb2658470a9a80a0a34f62ae7a": {
     "views": []
    },
    "54be4e267ff4412d8ca8c232e1a22ea0": {
     "views": []
    },
    "54dbff0616d5494cac7f5fe6801414e0": {
     "views": []
    },
    "56553aa8d71b4953a20034c4bd1d044b": {
     "views": []
    },
    "56dbb72475b14b27a563dde268494308": {
     "views": []
    },
    "57c56cc392f441279a64285f2778337f": {
     "views": []
    },
    "5832243bf50d4cb7a1bbc5186a74f01d": {
     "views": []
    },
    "585f3f2835c14300b1b8296e820ab883": {
     "views": []
    },
    "58f8e09565414052b94784dc74a70ba1": {
     "views": []
    },
    "59538e929cbe42b4bef96544bcd22f3a": {
     "views": []
    },
    "5b3eab516b274416845720444769e393": {
     "views": []
    },
    "5b85577c8dad4592a6fb30a544c29063": {
     "views": []
    },
    "5b9abe325daa480694e7f60e394692af": {
     "views": []
    },
    "5c128d0249de4ca4b5fb7200fa9af315": {
     "views": []
    },
    "5c2028de75d64f1893dd2f7ff2bdd5d8": {
     "views": []
    },
    "5ca8c6d2cd8c47b1acbbd81944296dd3": {
     "views": []
    },
    "5cbfe739d1dd4379984b3c56981611cd": {
     "views": []
    },
    "5cd053e81aec4ccb8183c2698e8c91af": {
     "views": []
    },
    "5ce31325850d465586298fbbfa751c50": {
     "views": []
    },
    "5d37c5c388264c3587235ffb5a1eafcb": {
     "views": []
    },
    "5d3819badd754d948817426fda56e589": {
     "views": []
    },
    "5d4eb1568ab7495faf657a5f7cdadd4a": {
     "views": []
    },
    "5dab17affdf74d0d84e6775eb72af40b": {
     "views": []
    },
    "5dca4e856bfc4d79af9aa70cb150951c": {
     "views": []
    },
    "5def7bd94c7e4175b69563743c9cf8ca": {
     "views": []
    },
    "5dfa5441b21540a29c4374c297cd08fd": {
     "views": []
    },
    "5e15db8802664804a3dfb803041972d8": {
     "views": []
    },
    "5ef68886eca7432abfa8d207f378c560": {
     "views": []
    },
    "5f38bf36b3a441dd9f75a2b16956f6e0": {
     "views": []
    },
    "5f8967aaaf054d35aff973f1140cd788": {
     "views": []
    },
    "60177a0702084189925d64651a307430": {
     "views": []
    },
    "601b24dca4a0499a98ac7917dc383d06": {
     "views": []
    },
    "60ae2b7e74a5461f8e8c4963c158fce6": {
     "views": []
    },
    "61df556415c94a639aa75af53722f042": {
     "views": []
    },
    "61e12e7452d1411cacc4ac92c638eaaf": {
     "views": []
    },
    "61fc6be346d045ddb4857c51577e04d3": {
     "views": []
    },
    "6219dbe94e3b4a71837e7d73205c8a92": {
     "views": []
    },
    "6262f7b8b87d4b77848bcf2f2ff64ef7": {
     "views": []
    },
    "62a75d6e363047229c3b215373569570": {
     "views": []
    },
    "62b02bc78b964deabe4a391adb4c81f6": {
     "views": []
    },
    "639ff3853ae043978561a9e10720cd3e": {
     "views": []
    },
    "63c5e182c8454e18b13510c4d2c1fca2": {
     "views": []
    },
    "63e552291a164fb5822960674505e973": {
     "views": []
    },
    "6413376a2d424d94b5678537f3348d7f": {
     "views": []
    },
    "6427931a1e144deb993af0b7b111c3af": {
     "views": []
    },
    "64ca428e3fb845ce89ee8d516b5d666f": {
     "views": []
    },
    "64f26d95f1764c82a272b2f895b1caa7": {
     "views": []
    },
    "6512877f943c41d89bff8a3e1792a893": {
     "views": []
    },
    "654ba55eac55420b8e055a7bf6ca9ee7": {
     "views": []
    },
    "65724a4207fe49a08caa057907a182fb": {
     "views": []
    },
    "65dabc505a8a4b339abfc1715a7688a9": {
     "views": []
    },
    "65ea0f57412648b5b0bf5fb39e3c32f0": {
     "views": []
    },
    "6650e63e004141e2b1bc6c3e8db4cbd5": {
     "views": []
    },
    "667fdbe48e2b49fbb26455302d39a490": {
     "views": []
    },
    "672f2b201112468dbe22ccd7e4f6f1b1": {
     "views": []
    },
    "67a519ebc7dd448fa73bf1063cb526f9": {
     "views": []
    },
    "67bb5a6c1bfb409f92308f074996269e": {
     "views": []
    },
    "68b8738715034bc3a18d9f23fbf5f340": {
     "views": []
    },
    "6913d6ac9e324d62a85f422db8fe3536": {
     "views": []
    },
    "6978b52bc919459e88f5892fe5a372f0": {
     "views": []
    },
    "6a04c2ceeca8408fa73f6edcfcb26468": {
     "views": []
    },
    "6a6327a1b85c4501853c5aa7d24fe931": {
     "views": []
    },
    "6adb6a197bb147318f7f5b2101f21eec": {
     "views": []
    },
    "6cc016bcdf3e462f81a93f168b602f0c": {
     "views": []
    },
    "6d0b9ab49ef74e5f88bf9b08e96e7cd5": {
     "views": []
    },
    "6de26a486614457b93e877a751cb328a": {
     "views": []
    },
    "6de2c7b3ce17451db3a643cfbf6bd048": {
     "views": []
    },
    "6df05e5a586f4ed586676cc5194d63b5": {
     "views": []
    },
    "6efb4bacb797430ca45140571a6320c7": {
     "views": []
    },
    "6f9a8cedbd1f49448e093db7d55f211b": {
     "views": []
    },
    "707c80e205a54616b9112d6bb98573ad": {
     "views": []
    },
    "70c1358fa95d4f8197b9d3445ab6bf87": {
     "views": []
    },
    "715f1e9f5fe3475da51c0ebafc300657": {
     "views": []
    },
    "71e09d0b3808461cafb6234e5f80626a": {
     "views": []
    },
    "722fe67336fd487cad1e2590e9b15641": {
     "views": []
    },
    "72ef848852244e1ea20b2e6076e7b266": {
     "views": []
    },
    "73286150e58a498fa09c3b0e2668d08a": {
     "views": []
    },
    "732fd5f2aca7487a97e3e6239087e0d1": {
     "views": []
    },
    "735539fccd33404ebdba97b1b78d701e": {
     "views": []
    },
    "73cf468550934bedbefe45781bbc90c7": {
     "views": []
    },
    "7432b35791f54bab8cecf6f4593a860d": {
     "views": []
    },
    "747342ab3397426590a402c4789c48dc": {
     "views": []
    },
    "74de94e604354031a1f8e716ed91b8b0": {
     "views": []
    },
    "75052da10afe433e8b24fbe4548e7cf7": {
     "views": []
    },
    "752d2be5af804a9cb2656be92e3f4fdd": {
     "views": []
    },
    "752d59e5a27644a584aab3d6ffd5f3bc": {
     "views": []
    },
    "75338e838844454b8e0e032ad4c3d20f": {
     "views": []
    },
    "7551eeb388d84db4980b9a24ba4339eb": {
     "views": []
    },
    "757bc36ca2814909b990862bb0d0805f": {
     "views": []
    },
    "75b193dc405c49c5bb6973fc31821371": {
     "views": []
    },
    "75ffa54fd6ac4d33b9c48f871ee82f44": {
     "views": []
    },
    "763a5203b35c4a40b34b1debde5bf94d": {
     "views": []
    },
    "785735359c2946e6b024bc92ee6a1ad0": {
     "views": []
    },
    "7870523a40374442a5db8db3eb3ccfbd": {
     "views": []
    },
    "7896ad3e280245528073bf70b34d8308": {
     "views": []
    },
    "793d3ce8f5d44aabbd8a483c09d8a601": {
     "views": []
    },
    "799c4ecb60b84faf8f0b228ac9fe13e7": {
     "views": []
    },
    "7a0cc5d0ff814982a813fc0334d7ebd7": {
     "views": []
    },
    "7a62869e5b994f78bad6e7611627b230": {
     "views": []
    },
    "7a83ca7e95db48b491f8ed931abd82b6": {
     "views": []
    },
    "7ac66e536add47988a9df00138b3999c": {
     "views": []
    },
    "7b5d9fc6b1b449a28d9d028a05dee7f0": {
     "views": []
    },
    "7b5e01765a10491c80c3df87dde0c80c": {
     "views": []
    },
    "7bd1e767326e4f69a688a29c7daac38a": {
     "views": []
    },
    "7bfb99a83c3c4219951adc349e9bb100": {
     "views": []
    },
    "7c0d352506ef44b5bb31443bee3e765a": {
     "views": []
    },
    "7ccd5fe099dc42e79f99d613d6251057": {
     "views": []
    },
    "7dd2bf2d4acf4d2fb2bf027e8dc3d2a5": {
     "views": []
    },
    "7e69d154f9684df18334a02206aa2c47": {
     "views": []
    },
    "7f370674c7a04db79aa1fe48bc869ec0": {
     "views": []
    },
    "7fa19485809543cc82081f2605f08514": {
     "views": []
    },
    "7fb0b6a0fdb94beaa3d8a7b68464bc93": {
     "views": []
    },
    "80a94f6bc63e405cb9e081e039cc96f2": {
     "views": []
    },
    "814ab5134d514c96a8b3ba22be980948": {
     "views": []
    },
    "815ca7fb47074a3cbf4981e845639451": {
     "views": []
    },
    "81a341e487a447e7a412ef160b876d41": {
     "views": []
    },
    "81be7c4929e54674909bca08455948ea": {
     "views": []
    },
    "81d726581a9b43e48ac48fe448cf6248": {
     "views": []
    },
    "82873984969c45f9bd95219c6da6ffbb": {
     "views": []
    },
    "828e3895861c4d799f45c2808c02ad52": {
     "views": []
    },
    "829566b5e10c4a1bb0a30fca2cd1d898": {
     "views": []
    },
    "82b5093378ff4c61acb2307c0b9e03bd": {
     "views": []
    },
    "82cf5d2c3a994cab8e08e66cf2d8d3bc": {
     "views": []
    },
    "83c6069db830495b97ab40f4159e9ccf": {
     "views": []
    },
    "8442fa4c9e664464b2f9be307f9d1402": {
     "views": []
    },
    "84d526eebf5b4d86abc5efdc8f9ca92e": {
     "views": []
    },
    "85930d32a6cd46d0b7d83561cb24e6cb": {
     "views": []
    },
    "864e614d54d645e282c81d1d8de1dd0a": {
     "views": []
    },
    "8748641dcf044a388971c214cacf7544": {
     "views": []
    },
    "879297a3250c45e089f476724371783b": {
     "views": []
    },
    "879fe3c943414bf7afda8e4ae2304733": {
     "views": []
    },
    "87ad14dd1ee24a56af2dd9814e8fc520": {
     "views": []
    },
    "87ba9556116848d88751b19175fcd52b": {
     "views": []
    },
    "8833651eefa644beab3753ffef6db237": {
     "views": []
    },
    "8855da19528549afbc0a9c54705dd4a8": {
     "views": []
    },
    "897697911ec44b449084e4f79484a636": {
     "views": []
    },
    "89ec8320c1144d999fad26c5a331fd93": {
     "views": []
    },
    "8a40e488904547ae9257034e5e4447a9": {
     "views": []
    },
    "8aa84b745fc6467086f80959f304b764": {
     "views": []
    },
    "8b1fda68b9a54cf1b781e3fa02606d44": {
     "views": []
    },
    "8c745ebfc12a463a9beb9d1e43939c56": {
     "views": []
    },
    "8d23adc10c874dc2b988d2ee07cca669": {
     "views": []
    },
    "8da803815c184d8bbb65d4f231a62a04": {
     "views": []
    },
    "8f47a21d6e26401db4977210b4df09a8": {
     "views": []
    },
    "907200aec0fe4bc6933da29838edd026": {
     "views": []
    },
    "90e5725226d2427c81809832b67bdb66": {
     "views": []
    },
    "91343a8bcd584a3592a57b772a02c07e": {
     "views": []
    },
    "917527814a9a4398afb1c6ac23494ba6": {
     "views": []
    },
    "91ac6c72461c43bfb6db3b8160a1ae74": {
     "views": []
    },
    "93011855e44947cdb213233c71822f41": {
     "views": []
    },
    "932137182551420fb12c5762d6a257b1": {
     "views": []
    },
    "93664d8635e44e07827672a2e46dcdb2": {
     "views": []
    },
    "948e20d51c724f23a20cebe5b46803e1": {
     "views": []
    },
    "94f1e223c02445a0b547e67eb2a9485c": {
     "views": []
    },
    "951bb83941c942f9b08c64a51876005f": {
     "views": []
    },
    "9545f4670142426888f3e27c74af3743": {
     "views": []
    },
    "957be94ae2f24e0ab0c9891d1bb99df9": {
     "views": []
    },
    "959654e200d64a3982ea2cc17c2e500b": {
     "views": []
    },
    "95bc5932495b4ce29bd632b91b2be0e0": {
     "views": []
    },
    "95d68b56c8754bc98bcfc7a159aa850d": {
     "views": []
    },
    "961a2c1546e94526a20c7e98afc23020": {
     "views": []
    },
    "965ea431deeb43c89a37be3f39cef4e3": {
     "views": []
    },
    "96a11a7be6524426a4ddbaa8458f26cf": {
     "views": []
    },
    "970550941de647c6aa95e5491a1b1b18": {
     "views": []
    },
    "972d0463ba63496caf09a678af9ce8d9": {
     "views": []
    },
    "9979c624d3954cc5aeed9ea7f9d01e3f": {
     "views": []
    },
    "9a39e6f61fcf494794602bbdedca50b3": {
     "views": []
    },
    "9a482f174d2f4d7cbfdb6f110fea5a08": {
     "views": []
    },
    "9acb05542a57448f9bf10fd500f5f413": {
     "views": []
    },
    "9b640ae9c2fe4e13a742f1597bac0634": {
     "views": []
    },
    "9b8c1e3844d8486d9b1ad7dcbeca130a": {
     "views": []
    },
    "9b9601ed36f240ada88786b62d66032d": {
     "views": []
    },
    "9bd011f698f84b05a3ea9b7c477ff4d6": {
     "views": [
      {
       "cell_index": 28
      }
     ]
    },
    "9bd0d38575ba49648faed9becd676d13": {
     "views": []
    },
    "9c58ecff12b247bc83317931adb1d4a2": {
     "views": []
    },
    "9caf9996d77b44f78bc373e9685b84f7": {
     "views": []
    },
    "9ce83d3160fa4c7cb16491259469cf76": {
     "views": []
    },
    "9d2c67fa006840b6b302d0131a26846d": {
     "views": []
    },
    "9d2f38fcf2a4498db7e802793c4d5da6": {
     "views": []
    },
    "9f0eabea46ac4097a26c84149454b2ba": {
     "views": []
    },
    "9f97d0023d474fd1a1013e3cfde9d5ba": {
     "views": []
    },
    "9fe8ad476bfb4d7c89704f3ec855e0ef": {
     "views": []
    },
    "a0591805d86d4e9da06311c07438516f": {
     "views": []
    },
    "a07c5c9602fd4b0c8dc6d9488711b15d": {
     "views": []
    },
    "a0ef5dc67dfe4492a9572fc1b14dce9f": {
     "views": []
    },
    "a12aa7d4c810439a86de4cb3cec6c75a": {
     "views": []
    },
    "a15dfd7125224ae494c0f4a18fc6b937": {
     "views": []
    },
    "a17900bb0ea94daabd7776e9a2c78991": {
     "views": []
    },
    "a22f38faaa1e4339bbe1c760222f7785": {
     "views": []
    },
    "a30a6af372cf4d139b8c7eda8174e367": {
     "views": []
    },
    "a4041f4fd77245c4a6686836538e2b14": {
     "views": []
    },
    "a480c8d230ef4866b1f7af3c16543942": {
     "views": []
    },
    "a5901d04827147b68a3e0edb741308d6": {
     "views": []
    },
    "a5eba80cea874b679a8cb178b043bfe6": {
     "views": []
    },
    "a5f555fa71d54f499802f415afacc5db": {
     "views": []
    },
    "a602eaf09b654cad84cfd177e130801f": {
     "views": []
    },
    "a711f871c5e7468d8a27dd873ec4a2d3": {
     "views": []
    },
    "a7b28cfeae7c48de9b7173fd4cc53008": {
     "views": []
    },
    "a846fe683c18464e88343920c06e39f5": {
     "views": []
    },
    "aa8c7b76c4904da5b72f8891a0fcc701": {
     "views": []
    },
    "ab0457150da4494ab89b6d7da6e15888": {
     "views": []
    },
    "ab2cc2c6c5874e53a3ea646ecb6fc595": {
     "views": []
    },
    "ac1d44b85bf74fdcab5428453261890b": {
     "views": []
    },
    "ac514ec0225d4ffb9035dfebcb31f66c": {
     "views": []
    },
    "ac7fe558062d47e98609d615358deefb": {
     "views": []
    },
    "ac9b20cf31b946878c1d42dcc8f68838": {
     "views": []
    },
    "ad1d9cd6129f4ae4b57bcdb706cb9018": {
     "views": []
    },
    "ad3fe8de388b41c68836451a6e5f6f4b": {
     "views": []
    },
    "ad76dafe0aba475698c2ac3e27af83e2": {
     "views": []
    },
    "ada2a22081fa4382b365f3f9037dcd29": {
     "views": []
    },
    "ada6eb03a8334e4eb94d3d6f743581f8": {
     "views": []
    },
    "ae0ba53129c5401f8eace8ca8a434317": {
     "views": []
    },
    "aecc255c6b864855a7dd1410d9fc6767": {
     "views": []
    },
    "aeccea1d16b346b3acf5b2d4aa41df9e": {
     "views": []
    },
    "af3b9fcb22b84d039847946c711a0749": {
     "views": []
    },
    "b0141192234f4049a00509026e8dd8fd": {
     "views": []
    },
    "b1dea89ba72c4effa563dd1a9ca9b4be": {
     "views": []
    },
    "b2a2b9a02b6f47cea51a108b722ad523": {
     "views": []
    },
    "b2f23084db6a4d4baee534129b26be2e": {
     "views": []
    },
    "b387feb8216b4689af8efc6a74e990df": {
     "views": []
    },
    "b3bfe7332cc144d4a485baae9191dfa5": {
     "views": []
    },
    "b4aaa4205b984568a5b2b3972d78e2a6": {
     "views": []
    },
    "b4c3504c60aa452ab839636d25b68600": {
     "views": []
    },
    "b4cec2f67ffb4528882f29c8a00094d2": {
     "views": []
    },
    "b5a6290a8b7540c1bd3d4eb2235856ed": {
     "views": []
    },
    "b5d76c8ce4244d60bf7716b378eb18cb": {
     "views": []
    },
    "b5ea52f124184613bb2e2697bd106a6c": {
     "views": []
    },
    "b5f8d282a5834783ae69d11e32c7ebe3": {
     "views": []
    },
    "b5f9a53f5bf944a5bc7d730babeda690": {
     "views": []
    },
    "b62eaf08ab1247b0ac6ad3413c655b61": {
     "views": []
    },
    "b68d9d232f804cdd99bd52e4267976b5": {
     "views": []
    },
    "b6e05c1a5413499f87c9571356568de5": {
     "views": []
    },
    "b76add5152564a529abaec1fa3973591": {
     "views": []
    },
    "b7e2c1a949da4fa6b713d1ad90e470c7": {
     "views": []
    },
    "b816393d80034d1292df7ab67e94ff80": {
     "views": []
    },
    "b856ce7bdadc4883bcf725433f43a3a4": {
     "views": []
    },
    "b857e2c2fbfc42efb3a89b14754f9b82": {
     "views": []
    },
    "b8a0d650d7b74e1782270b55c94a012c": {
     "views": []
    },
    "b8d7fd5c59074076a9001bc5d0f19b32": {
     "views": []
    },
    "b940b2805d124e81b450658bace2c628": {
     "views": []
    },
    "b972939e1ed8438ea5bd5d3999bac237": {
     "views": []
    },
    "b983361c77d8440494fa1047ce7d6d8e": {
     "views": []
    },
    "b988f14d5b5744f7bf66ff4ba8beab94": {
     "views": []
    },
    "ba0a0b0e2089460396c69121ccaf8323": {
     "views": []
    },
    "ba55862081ec45a5b9c8cbc1deb82701": {
     "views": []
    },
    "bb697c5d6d494020baa5cbcc7aa3b54f": {
     "views": []
    },
    "bb6b242d59d844538adb750b1a29600a": {
     "views": []
    },
    "bb8fcf1f7cfb4db58089f9898417e0d7": {
     "views": []
    },
    "bbf2bec5422a4a359de3235f25781736": {
     "views": []
    },
    "bc2fff2176d54ab48d106cc928cf3de4": {
     "views": []
    },
    "bc6648d1b51d412eb73914538ca8ad07": {
     "views": []
    },
    "bc828cfe83404dceb8f170e1003f1b06": {
     "views": []
    },
    "bcea9a017fb8422fbc629f18b6024591": {
     "views": []
    },
    "bd903ef361174d2aa74cbc54903e2ecb": {
     "views": []
    },
    "bde7d62bdee246199ad79de33445d085": {
     "views": []
    },
    "be3292e6bfff46daa116d539329840c1": {
     "views": []
    },
    "becbad44c4574bdd9636325e46a9545c": {
     "views": []
    },
    "bed17d3ede624445a4f9f7f59c2a82ca": {
     "views": []
    },
    "bf17e51722644d269833d23ad321a442": {
     "views": []
    },
    "bf1935ad475c46ee865ac483b27d8643": {
     "views": []
    },
    "bf5ca156dc884cec902b90e524601cd7": {
     "views": []
    },
    "bfddc493332445a1adb1c569c66ca748": {
     "views": []
    },
    "bfff411d58d44390b35bf4558deb0cf8": {
     "views": []
    },
    "c004140ee943446693a8deafb884f71b": {
     "views": []
    },
    "c040b4e52f334ac99e857b25321e93a2": {
     "views": []
    },
    "c148cc1070cf428fa23e8c9d71aedb7e": {
     "views": []
    },
    "c2582cd1c3c3449dae4df29b086cf61f": {
     "views": []
    },
    "c273ab6ed13341c69bcdd680f72b0ed4": {
     "views": []
    },
    "c2d20a73b0ab44c6a4fa6d73dc99e188": {
     "views": []
    },
    "c2e42778994d491c9ed5974ef15c3115": {
     "views": []
    },
    "c2f6bdfd14914763a3c1c3c4fdc69f57": {
     "views": []
    },
    "c3dea0b50689443187712c9e30ff4c65": {
     "views": []
    },
    "c3fa5454b693439ba1ee0c5f335d5136": {
     "views": []
    },
    "c439d7038a4b4304847c6aa4eafdc45f": {
     "views": []
    },
    "c4d4405fc5fb42aca66860577a0431a8": {
     "views": []
    },
    "c5e0d8d1321c4d2eb92f809346b7292c": {
     "views": []
    },
    "c5e6ace667d2445b8a9ac01b320563d2": {
     "views": []
    },
    "c6d25630026746879a78e7240c4b4ca6": {
     "views": []
    },
    "c6d7bdee8f884b51bb69f99fdcaf33ac": {
     "views": []
    },
    "c7a96940483040d296a45da46880ae76": {
     "views": []
    },
    "c8eae4d1134e4fa29f4de90dbbbdb116": {
     "views": []
    },
    "c928b57a9e194caf8009c15db60b887a": {
     "views": []
    },
    "c9409c3a51e24c05b15d3dd0bb4ba423": {
     "views": []
    },
    "c94485dcb469440193bab25d23f129fe": {
     "views": []
    },
    "c96143ac73a74d189de0f07220f72227": {
     "views": []
    },
    "c9f6fb5f573f44ce8745848a3bc38f3d": {
     "views": []
    },
    "ca18a7aabb574c94a6f836f53d4917df": {
     "views": []
    },
    "cacfc1a22aed4a8c9bebba7ef377f8ce": {
     "views": []
    },
    "cb32c2b5d88e419e8046b3f4a08b1fb5": {
     "views": []
    },
    "cbae4d5acb44406a95d5f4384420073d": {
     "views": []
    },
    "cbebfbba55ee40c2bc7ed518bc7838be": {
     "views": []
    },
    "cc5d52efe41d4ff39cfa75e671f320ac": {
     "views": []
    },
    "cc84524a10384320ad0d8909a86282bd": {
     "views": []
    },
    "ccbc2f42c5cc4b799393f88a08627535": {
     "views": []
    },
    "ccc0522b63d047dca8995883018a5882": {
     "views": []
    },
    "cd30cf83ac3f48fb87546f0b2ce73c2e": {
     "views": []
    },
    "cd8ad69ad2c241f9b01e0a4add2c70e8": {
     "views": []
    },
    "ce8eda49271e461ea7a0ebb7786a58c8": {
     "views": []
    },
    "cf4c719de9794236a5f93a18daa73602": {
     "views": []
    },
    "cf884ef126d24309be8f548e7b836218": {
     "views": []
    },
    "cffc94fe62c0433fbaeefa0cbfe00ee2": {
     "views": []
    },
    "d0ca7f79c69d4c0d8f5d9677398721a3": {
     "views": []
    },
    "d0d9d0cdc6d84bf9ad6606f26648b52d": {
     "views": []
    },
    "d1576d2c1f5949f7ae74fa72d9083d68": {
     "views": []
    },
    "d2de6a443b504ecf97010d0ad891a91f": {
     "views": []
    },
    "d32031d4fa694723802338b766d11fe6": {
     "views": []
    },
    "d3526368d72e4c0489f4ae42d42fa3a2": {
     "views": []
    },
    "d43d5b7f21be46d981b22508d610dc1e": {
     "views": []
    },
    "d4b5146fac424b2fb9c11e974fec3389": {
     "views": []
    },
    "d4eb5da5b6b342248291508ec7cb4433": {
     "views": []
    },
    "d784ae53eb6f40758434d4f39c593a62": {
     "views": []
    },
    "d8233518822f416a9f1eb5f938ddefaf": {
     "views": []
    },
    "d94bbae597d34e08aef8b964a8284667": {
     "views": []
    },
    "d9e91d3f787d477f91880c9718529784": {
     "views": []
    },
    "db5b249102664b14a40c7f15d2c24672": {
     "views": []
    },
    "db72b7900e414b8f90d9e76efd64f0c4": {
     "views": []
    },
    "dbe9e24c010249d6973f358e98af003a": {
     "views": []
    },
    "dc1397fcb81c48d0b1f134d77fb85ef6": {
     "views": []
    },
    "dc5eb11ea97e4c76b076d0d31f6ed249": {
     "views": []
    },
    "dcf4317cb0254223b29480be3cfce183": {
     "views": []
    },
    "dd0bca2d9689418a9226244e78c593fb": {
     "views": []
    },
    "dde830557f7142a8b0614b1608ea1bf9": {
     "views": []
    },
    "de390738cd3d49eaa0caf80c3fe76c25": {
     "views": []
    },
    "de58840652ef4af4b7a92e41749849ad": {
     "views": []
    },
    "de5b280ab67b429a948d92dcc5cbe91e": {
     "views": []
    },
    "de728d8186eb47b1aa7f88b89d0cd8c6": {
     "views": []
    },
    "dea5bc2e08704ba2bb3b3819337252be": {
     "views": []
    },
    "deafe668b3ba470d8c64e574f9f42bd3": {
     "views": []
    },
    "df7d06dc7ea944428527bec66d6b018b": {
     "views": []
    },
    "df868876af4c449b9e83503094f48399": {
     "views": []
    },
    "e02a40ce46404a0c8b44a097bba474b5": {
     "views": []
    },
    "e0dd4e22aba7467ea8b64fc619d9257c": {
     "views": []
    },
    "e158b76da76e40238d52b5690637b35a": {
     "views": []
    },
    "e1f48898b4a6413c96359037dd6d7c5a": {
     "views": []
    },
    "e268abe2591d455f8b4d744e6918ed42": {
     "views": []
    },
    "e2893dae758045b4aa527b0a419b9c70": {
     "views": []
    },
    "e44a291f97a24f3ba5278fb38f99c1e7": {
     "views": []
    },
    "e4c51381aef64afd8fbd944021834f2d": {
     "views": []
    },
    "e5098902089740fda3caea4bbbd8a66c": {
     "views": []
    },
    "e710e775b5b045f38b683160dc5e3fc1": {
     "views": []
    },
    "e82853fd19ec4927bb217b7ef20a0473": {
     "views": []
    },
    "e85f6c7ab6544581aa7000785a7eb5f5": {
     "views": []
    },
    "e861d7a41f4d4b0c9b72dd52bc43e674": {
     "views": []
    },
    "e8e4772fcc894c8f8fb91da38e43b88f": {
     "views": []
    },
    "e9a159ea7b5b45e6a69b9e5feaf0808a": {
     "views": []
    },
    "e9a4fa260a514e2b8886015433b423db": {
     "views": []
    },
    "e9ab2eebb15541df9c976522445337d9": {
     "views": []
    },
    "e9d0a6ebbb214ee89b559cc2b0234bfc": {
     "views": []
    },
    "eaab82bd06df4499a0cd73b6d3af2578": {
     "views": []
    },
    "eadcd6d44fbf4f228a93d06889e7d762": {
     "views": []
    },
    "eb568ea734ae4056a796fff71c9477f0": {
     "views": []
    },
    "ebbb62fb8e0d4247a1faed68cb5b4520": {
     "views": []
    },
    "ec2ffbc55f86437d991dc8e83f8cd215": {
     "views": []
    },
    "ec396bf01ff347399f235568fa81c988": {
     "views": []
    },
    "ec425061107144869c92eab3ae0f62f9": {
     "views": []
    },
    "eccdc86c99af4c529389a633415a34f6": {
     "views": []
    },
    "ece80e16b39342d99b9d58857910d263": {
     "views": []
    },
    "ed26e03f9b254288883c2a1b8e709cad": {
     "views": []
    },
    "ed8e1a8a78f542b3a3d98219828f513b": {
     "views": []
    },
    "eda413e50d00477b82fba1899d3721c5": {
     "views": []
    },
    "ede848de0df24b52b5f0f33fda8c35db": {
     "views": []
    },
    "ee2595f4269f4192b53e1496e366c66b": {
     "views": []
    },
    "ee4c62087ed94f7d88536bdfabd6d6ac": {
     "views": []
    },
    "ee4f7e9decfe4bd7b6affe81bb17da00": {
     "views": []
    },
    "ee6e92213d6346098906d8d2271adeb0": {
     "views": []
    },
    "eefba7cbefba4ec3a6d778205bfa26be": {
     "views": []
    },
    "ef20ca5ec5b04a3684450695d7f96acd": {
     "views": []
    },
    "ef29f7f847a74bab9495cf85546c36dd": {
     "views": []
    },
    "ef2d0d86494c443cb34afd212b94cfa4": {
     "views": []
    },
    "ef4e0648a7d74c049a656d415f4d0eec": {
     "views": []
    },
    "ef775708ea3a4e82aaaa8fbf7145097d": {
     "views": []
    },
    "efa810b305cf4f48bded4d52ce18b4cf": {
     "views": []
    },
    "efdb8be2e8004992bbefe98027bc9d69": {
     "views": []
    },
    "f03547ad4a4d415f96852ecb11d50d8f": {
     "views": []
    },
    "f1300de094de43aea6418a27908120e7": {
     "views": []
    },
    "f151c5de191e4752b69cbb7e3ea6f8e9": {
     "views": []
    },
    "f1b3227c490d4597806d588eec93d3e5": {
     "views": []
    },
    "f1e44bc1d4d84f1a885cd2ff83e5a3c3": {
     "views": []
    },
    "f2451085c161435fa4ea8082619e3b28": {
     "views": []
    },
    "f2eec688fa1d47e8a0ec3a1d06f15720": {
     "views": []
    },
    "f37de208e5e44feabc5ad44435c63ca5": {
     "views": []
    },
    "f38cc3d306d14b51a9e16fd04c9fe1dc": {
     "views": []
    },
    "f3ae7fc8cadb47fe9cc11615e061a9eb": {
     "views": []
    },
    "f4cca7256e7c403fa1b1be37153d1c8c": {
     "views": []
    },
    "f51a7847ece94f71bdbf88601403b28f": {
     "views": []
    },
    "f5c3419cc96e412db90e30c1392925cc": {
     "views": []
    },
    "f5c5f1839e3649dca4115011e00d573f": {
     "views": []
    },
    "f5d9c151c08540c798a475b90232ee69": {
     "views": []
    },
    "f5ed53e09b0c4684a7b8f52e84e7efd7": {
     "views": []
    },
    "f786590d4bba45d98acc7bfa9b5d80f3": {
     "views": []
    },
    "f80f1189b723437ba344f2bf0b87c233": {
     "views": []
    },
    "f824d47a8b1e4953a418a446f4bde73c": {
     "views": []
    },
    "f90699121fa14641b56baa096a2ce063": {
     "views": []
    },
    "fa05ff7264404f77a39f0fcc10f74022": {
     "views": []
    },
    "fa16f62d44174d748f9cb224a4a72911": {
     "views": []
    },
    "fa9518482e444c2d9a1eefda944bc059": {
     "views": []
    },
    "fab75a56dcb34c77a27a879a88d58ef3": {
     "views": []
    },
    "fadd8102719f4c7eb3b7406253896874": {
     "views": []
    },
    "fb031db2c5dd4f16809ad05bacfd1e52": {
     "views": []
    },
    "fc79a8bef39c4d2e8b0644d9ec947868": {
     "views": []
    },
    "fc85ee96ce3e42bb863be0173f4a6489": {
     "views": []
    },
    "fd75485440d6408ca6c4038b9eb9bc4d": {
     "views": []
    },
    "fdd01a86fc6e43cdb07977be7cb871c9": {
     "views": []
    },
    "fde9d5321aa849aab0520f2f366c15bf": {
     "views": []
    },
    "fe7d7b954f8646a49b20415e8e07a97b": {
     "views": []
    },
    "fe911682728e4e0187935c8cfe88f0e9": {
     "views": []
    },
    "feb70de5dd454cbfa6764faab3c6f59a": {
     "views": []
    },
    "ff64150950814aae81c29ae05edde9a4": {
     "views": []
    },
    "ff8fb41024bf48a6a939c356d61254b2": {
     "views": []
    }
   },
   "version": "1.1.2"
  }
 },
 "nbformat": 4,
 "nbformat_minor": 0
}
