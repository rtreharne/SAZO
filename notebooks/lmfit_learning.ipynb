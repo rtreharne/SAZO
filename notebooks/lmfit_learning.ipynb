{
 "cells": [
  {
   "cell_type": "code",
   "execution_count": 49,
   "metadata": {
    "collapsed": false
   },
   "outputs": [
    {
     "name": "stdout",
     "output_type": "stream",
     "text": [
      "Populating the interactive namespace from numpy and matplotlib\n"
     ]
    }
   ],
   "source": [
    "%pylab inline\n",
    "import lmfit\n",
    "from lmfit import Model"
   ]
  },
  {
   "cell_type": "code",
   "execution_count": 70,
   "metadata": {
    "collapsed": true
   },
   "outputs": [],
   "source": [
    "def gaussian(x, s2=0.2, mu=0):\n",
    "    f = 1/(np.sqrt(2*s2*pi))*exp(-(x-mu)**2/(2*s2))\n",
    "    return f\n",
    "    "
   ]
  },
  {
   "cell_type": "code",
   "execution_count": 71,
   "metadata": {
    "collapsed": false
   },
   "outputs": [],
   "source": [
    "x = linspace(-5, 5, 100)"
   ]
  },
  {
   "cell_type": "code",
   "execution_count": 72,
   "metadata": {
    "collapsed": false
   },
   "outputs": [],
   "source": [
    "f = gaussian(x)"
   ]
  },
  {
   "cell_type": "code",
   "execution_count": 73,
   "metadata": {
    "collapsed": false
   },
   "outputs": [
    {
     "data": {
      "text/plain": [
       "[<matplotlib.lines.Line2D at 0x7f7e9b8f9a50>]"
      ]
     },
     "execution_count": 73,
     "metadata": {},
     "output_type": "execute_result"
    },
    {
     "data": {
      "image/png": "[encoded data removed]",
      "text/plain": [
       "<matplotlib.figure.Figure at 0x7f7e9bad6f10>"
      ]
     },
     "metadata": {},
     "output_type": "display_data"
    }
   ],
   "source": [
    "plot(x,f)"
   ]
  },
  {
   "cell_type": "code",
   "execution_count": 74,
   "metadata": {
    "collapsed": true
   },
   "outputs": [],
   "source": [
    "mod = lmfit.Model(gaussian, prefix='f1')"
   ]
  },
  {
   "cell_type": "code",
   "execution_count": 79,
   "metadata": {
    "collapsed": false
   },
   "outputs": [
    {
     "name": "stdout",
     "output_type": "stream",
     "text": [
      "[[Variables]]\n",
      "    N:     10         (init= 10)\n",
      "    tau:   8          (init= 8)\n",
      "[[Correlations]] (unreported correlations are <  0.100)\n"
     ]
    },
    {
     "data": {
      "image/png": "[encoded data removed]",
      "text/plain": [
       "<matplotlib.figure.Figure at 0x7f7e9b9783d0>"
      ]
     },
     "metadata": {},
     "output_type": "display_data"
    },
    {
     "name": "stdout",
     "output_type": "stream",
     "text": [
      "<lmfit.minimizer.MinimizerResult object at 0x7f7e9978c7d0>\n"
     ]
    }
   ],
   "source": [
    "import numpy as np\n",
    "import matplotlib.pyplot as plt\n",
    "from lmfit import minimize, Parameters, Parameter, report_fit\n",
    "\n",
    "# generate some data with noise\n",
    "# replace xData and yData with your data\n",
    "xData = np.linspace(0., 100., 50.)\n",
    "Nf = 5.\n",
    "tauf = 6.5\n",
    "yData = Nf * np.exp(-xData / tauf) + np.random.normal(0, 0.5, len(xData))\n",
    "# plt.plot(xData, yData, 'bo')\n",
    "# plt.show()\n",
    "\n",
    "def decay(params, x, data):\n",
    "\n",
    "    N = params['N'].value\n",
    "    tau = params['tau'].value\n",
    "\n",
    "    model = N * np.exp(-x/tau)\n",
    "    return model - data # that's what you want to minimize\n",
    "\n",
    "# create a set of Parameters\n",
    "params = Parameters()\n",
    "params.add('N', value=10) # value is the initial value\n",
    "params.add('tau', value=8.)\n",
    "\n",
    "# do fit, here with leastsq model\n",
    "result = minimize(decay, params, args=(xData, yData))\n",
    "\n",
    "# calculate final result\n",
    "final = yData + result.residual\n",
    "\n",
    "# write error report\n",
    "report_fit(params)\n",
    "\n",
    "# plot the data\n",
    "plt.plot(xData, yData, 'bo')\n",
    "plt.plot(xData, final, 'g')\n",
    "plt.show()\n",
    "\n",
    "print result"
   ]
  },
  {
   "cell_type": "code",
   "execution_count": 80,
   "metadata": {
    "collapsed": false
   },
   "outputs": [
    {
     "name": "stdout",
     "output_type": "stream",
     "text": [
      "[[Variables]]\n",
      "    n1:   0.20000000 (init= 0.2)\n",
      "    n2:  -0.00500000 (init=-0.005)\n",
      "    n3:   1.07660000 (init= 1.0766)\n",
      "    n4:  -0.36379000 (init=-0.36379)\n",
      "    n5:   274        (init= 274)\n",
      "[[Correlations]] (unreported correlations are <  0.100)\n"
     ]
    },
    {
     "ename": "AttributeError",
     "evalue": "'MinimizerResult' object has no attribute 'values'",
     "output_type": "error",
     "traceback": [
      "\u001b[0;31m---------------------------------------------------------------------------\u001b[0m",
      "\u001b[0;31mAttributeError\u001b[0m                            Traceback (most recent call last)",
      "\u001b[0;32m<ipython-input-80-444cb1b384a5>\u001b[0m in \u001b[0;36m<module>\u001b[0;34m()\u001b[0m\n\u001b[1;32m     37\u001b[0m \u001b[0;34m\u001b[0m\u001b[0m\n\u001b[1;32m     38\u001b[0m \u001b[0mxplot\u001b[0m \u001b[0;34m=\u001b[0m \u001b[0mnp\u001b[0m\u001b[0;34m.\u001b[0m\u001b[0mlinspace\u001b[0m\u001b[0;34m(\u001b[0m\u001b[0mmin\u001b[0m\u001b[0;34m(\u001b[0m\u001b[0mxdata\u001b[0m\u001b[0;34m)\u001b[0m\u001b[0;34m,\u001b[0m \u001b[0mmax\u001b[0m\u001b[0;34m(\u001b[0m\u001b[0mxdata\u001b[0m\u001b[0;34m)\u001b[0m\u001b[0;34m,\u001b[0m \u001b[0;36m1000\u001b[0m\u001b[0;34m)\u001b[0m\u001b[0;34m\u001b[0m\u001b[0m\n\u001b[0;32m---> 39\u001b[0;31m \u001b[0myplot\u001b[0m \u001b[0;34m=\u001b[0m \u001b[0mresult\u001b[0m\u001b[0;34m.\u001b[0m\u001b[0mvalues\u001b[0m\u001b[0;34m[\u001b[0m\u001b[0;34m'n1'\u001b[0m\u001b[0;34m]\u001b[0m \u001b[0;34m+\u001b[0m \u001b[0;34m(\u001b[0m\u001b[0mresult\u001b[0m\u001b[0;34m.\u001b[0m\u001b[0mvalues\u001b[0m\u001b[0;34m[\u001b[0m\u001b[0;34m'n2'\u001b[0m\u001b[0;34m]\u001b[0m \u001b[0;34m*\u001b[0m \u001b[0mxplot\u001b[0m \u001b[0;34m+\u001b[0m \u001b[0mresult\u001b[0m\u001b[0;34m.\u001b[0m\u001b[0mvalues\u001b[0m\u001b[0;34m[\u001b[0m\u001b[0;34m'n3'\u001b[0m\u001b[0;34m]\u001b[0m\u001b[0;34m)\u001b[0m \u001b[0;34m*\u001b[0m                               \u001b[0;36m1.\u001b[0m\u001b[0;34m/\u001b[0m \u001b[0;34m(\u001b[0m\u001b[0;36m1.\u001b[0m \u001b[0;34m+\u001b[0m \u001b[0mnp\u001b[0m\u001b[0;34m.\u001b[0m\u001b[0mexp\u001b[0m\u001b[0;34m(\u001b[0m\u001b[0mresult\u001b[0m\u001b[0;34m.\u001b[0m\u001b[0mvalues\u001b[0m\u001b[0;34m[\u001b[0m\u001b[0;34m'n4'\u001b[0m\u001b[0;34m]\u001b[0m \u001b[0;34m*\u001b[0m \u001b[0;34m(\u001b[0m\u001b[0mresult\u001b[0m\u001b[0;34m.\u001b[0m\u001b[0mvalues\u001b[0m\u001b[0;34m[\u001b[0m\u001b[0;34m'n5'\u001b[0m\u001b[0;34m]\u001b[0m \u001b[0;34m-\u001b[0m \u001b[0mxplot\u001b[0m\u001b[0;34m)\u001b[0m\u001b[0;34m)\u001b[0m\u001b[0;34m)\u001b[0m\u001b[0;34m\u001b[0m\u001b[0m\n\u001b[0m\u001b[1;32m     40\u001b[0m \u001b[0;31m#plot results\u001b[0m\u001b[0;34m\u001b[0m\u001b[0;34m\u001b[0m\u001b[0m\n\u001b[1;32m     41\u001b[0m \u001b[0;32mtry\u001b[0m\u001b[0;34m:\u001b[0m\u001b[0;34m\u001b[0m\u001b[0m\n",
      "\u001b[0;31mAttributeError\u001b[0m: 'MinimizerResult' object has no attribute 'values'"
     ]
    }
   ],
   "source": [
    "from lmfit import minimize, Parameters, Parameter, report_fit\n",
    "import numpy as np\n",
    "\n",
    "xdata = np.array([177.,180.,183.,187.,189.,190.,196.,197.,201.,202.,203.,204.,206.,218.,225.,231.,234.,\n",
    "      252.,262.,266.,267.,268.,277.,286.,303.])\n",
    "\n",
    "ydata = np.array([0.81,0.74,0.78,0.75,0.77,0.81,0.73,0.76,0.71,0.74,0.81,0.71,0.74,0.71,\n",
    "      0.72,0.69,0.75,0.59,0.61,0.63,0.64,0.63,0.35,0.27,0.26])\n",
    "\n",
    "def fit_fc(params, x, data):\n",
    "\n",
    "    n1 = params['n1'].value\n",
    "    n2 = params['n2'].value\n",
    "    n3 = params['n3'].value\n",
    "    n4 = params['n4'].value\n",
    "    n5 = params['n5'].value\n",
    "\n",
    "    model = n1 + (n2 * x + n3) * 1./ (1. + np.exp(n4 * (n5 - x)))\n",
    "\n",
    "    return model - data #that's what you want to minimize\n",
    "\n",
    "# create a set of Parameters\n",
    "# 'value' is the initial condition\n",
    "# 'min' and 'max' define your boundaries\n",
    "params = Parameters()\n",
    "params.add('n1', value= 0.2, min=0.2, max=0.8)\n",
    "params.add('n2', value= -0.005, min=-0.3, max=10**(-10))\n",
    "params.add('n3', value= 1.0766, min=-1000., max=1000.)\n",
    "params.add('n4', value= -0.36379, min=-1000., max=1000.)\n",
    "params.add('n5', value= 274.0, min=0., max=1000.)\n",
    "\n",
    "# do fit, here with leastsq model\n",
    "result = minimize(fit_fc, params, args=(xdata, ydata))\n",
    "\n",
    "# write error report\n",
    "report_fit(params)\n",
    "\n",
    "xplot = np.linspace(min(xdata), max(xdata), 1000)\n",
    "yplot = result.values['n1'] + (result.values['n2'] * xplot + result.values['n3']) * \\\n",
    "                              1./ (1. + np.exp(result.values['n4'] * (result.values['n5'] - xplot)))\n",
    "#plot results\n",
    "try:\n",
    "    import pylab\n",
    "    pylab.plot(xdata, ydata, 'k+')\n",
    "    pylab.plot(xplot, yplot, 'r')\n",
    "    pylab.show()\n",
    "except:\n",
    "    pass"
   ]
  },
  {
   "cell_type": "code",
   "execution_count": null,
   "metadata": {
    "collapsed": true
   },
   "outputs": [],
   "source": []
  }
 ],
 "metadata": {
  "kernelspec": {
   "display_name": "Python 2",
   "language": "python",
   "name": "python2"
  },
  "language_info": {
   "codemirror_mode": {
    "name": "ipython",
    "version": 2
   },
   "file_extension": ".py",
   "mimetype": "text/x-python",
   "name": "python",
   "nbconvert_exporter": "python",
   "pygments_lexer": "ipython2",
   "version": "2.7.11+"
  },
  "widgets": {
   "state": {},
   "version": "1.1.2"
  }
 },
 "nbformat": 4,
 "nbformat_minor": 0
}
