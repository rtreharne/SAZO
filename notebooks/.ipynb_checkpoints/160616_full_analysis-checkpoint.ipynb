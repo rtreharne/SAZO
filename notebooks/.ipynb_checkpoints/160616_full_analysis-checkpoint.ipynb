{
 "cells": [
  {
   "cell_type": "code",
   "execution_count": 1,
   "metadata": {
    "collapsed": false
   },
   "outputs": [
    {
     "name": "stdout",
     "output_type": "stream",
     "text": [
      "Populating the interactive namespace from numpy and matplotlib\n"
     ]
    }
   ],
   "source": [
    "%pylab inline\n",
    "e = 1.602e-19 #electronic charge\n",
    "h = 6.63e-34 #Planck's constant\n",
    "e0 = 8.85e-12 #Permittivity of free space\n",
    "m0 = 9.11e-31 #Free electron mass\n",
    "kb = 1.381e-23 #Boltsmann's constant"
   ]
  },
  {
   "cell_type": "code",
   "execution_count": 2,
   "metadata": {
    "collapsed": true
   },
   "outputs": [],
   "source": [
    "import os\n",
    "import sys\n",
    "import csv\n",
    "scripts_path = os.path.abspath(os.path.join('../scripts/'))\n",
    "data_path = os.path.abspath(os.path.join('../data/'))\n",
    "sys.path.append(scripts_path)\n",
    "sys.path.append(data_path)\n",
    "    "
   ]
  },
  {
   "cell_type": "code",
   "execution_count": 3,
   "metadata": {
    "collapsed": false
   },
   "outputs": [
    {
     "data": {
      "text/plain": [
       "'/home/treharne/Documents/projects/SAZO/scripts'"
      ]
     },
     "execution_count": 3,
     "metadata": {},
     "output_type": "execute_result"
    }
   ],
   "source": [
    "scripts_path"
   ]
  },
  {
   "cell_type": "code",
   "execution_count": 4,
   "metadata": {
    "collapsed": false
   },
   "outputs": [],
   "source": [
    "T_data = data_path + '/T/160616_C_extracted.txt'\n",
    "R_data = data_path + '/4PP/160616_C.dat'\n",
    "XPS_data = data_path + '/XPS/160616-C_XPS_100pt_2.csv'"
   ]
  },
  {
   "cell_type": "code",
   "execution_count": 5,
   "metadata": {
    "collapsed": false
   },
   "outputs": [],
   "source": [
    "def read_T_data(path):\n",
    "    f = open (path, 'rb')\n",
    "    reader = csv.reader(f)\n",
    "    data = []\n",
    "    data_dict = {}\n",
    "    x, y = relabel_T_coords()\n",
    "    coords = np.transpose([x,y])\n",
    "   \n",
    "    for i, line in zip(coords, reader):\n",
    "       \n",
    "        item = [float(x) for x in line[0].split(' ')]\n",
    "        \n",
    "        data_dict['%s %s' % (i[0], i[1])] = {'x': i[0], \n",
    "                                             'y': i[1],\n",
    "                                             'd': item[2],\n",
    "                                             'wp': item[3]}\n",
    "                                            \n",
    "    return data_dict\n"
   ]
  },
  {
   "cell_type": "code",
   "execution_count": 6,
   "metadata": {
    "collapsed": false
   },
   "outputs": [],
   "source": [
    "def read_R_data(path):\n",
    "    f = open(path, 'rb')\n",
    "    reader = csv.reader(f)\n",
    "    headers = reader.next()\n",
    "    data = []\n",
    "    data_dict = {}\n",
    "    x, y = relabel_T_coords()\n",
    "    coords = np.transpose([x,y])\n",
    "    for i, line in zip(coords, reader):\n",
    "        \n",
    "        \n",
    "        \n",
    "        item = []\n",
    "        for x in line:\n",
    "            try:\n",
    "                item.append(float(x))\n",
    "                \n",
    "        \n",
    "            except:\n",
    "                item.append(None)\n",
    "                \n",
    "        if item[2]:\n",
    "            item[2] = item[2]*4.532\n",
    "        \n",
    "        data_dict['%s %s' % (line[0], line[1])] = {'x': line[0], \n",
    "                                                   'y': line[1],\n",
    "                                                   'Rs': item[2]}\n",
    "    return data_dict\n",
    "                                             \n",
    "        "
   ]
  },
  {
   "cell_type": "code",
   "execution_count": 7,
   "metadata": {
    "collapsed": false
   },
   "outputs": [],
   "source": [
    "def relabel_T_coords():\n",
    "    x = []\n",
    "    y = []\n",
    "    for i in range(0, 10):\n",
    "    \n",
    "        for j in range(0, 10):\n",
    "            x.append((j-4.5)*10)\n",
    "            y.append((4.5-i)*10)\n",
    "    \n",
    "    \n",
    "    return x, y"
   ]
  },
  {
   "cell_type": "code",
   "execution_count": 8,
   "metadata": {
    "collapsed": false
   },
   "outputs": [],
   "source": [
    "extracted_T = read_T_data(T_data)\n",
    "extracted_R = read_R_data(R_data)"
   ]
  },
  {
   "cell_type": "code",
   "execution_count": 9,
   "metadata": {
    "collapsed": false
   },
   "outputs": [],
   "source": [
    "def getxyz(data, param):\n",
    "    count = 0\n",
    "    x = []\n",
    "    y = []\n",
    "    z = []\n",
    "    for key in data.keys():\n",
    "        x.append(data.get(key, None).get('x', None))\n",
    "        y.append(data.get(key, None).get('y', None))\n",
    "        z.append(data.get(key, None).get(param, None))\n",
    "    return x, y, z\n",
    "    \n",
    "    "
   ]
  },
  {
   "cell_type": "code",
   "execution_count": 10,
   "metadata": {
    "collapsed": false
   },
   "outputs": [],
   "source": [
    "def contour_plot(data, param, res=50, scale='linear'):\n",
    "    x, y, z = getxyz(data, param)\n",
    "    zlabel = None\n",
    "    \n",
    "    if scale == 'log':\n",
    "        for i in range (0, len(z)):\n",
    "            try: \n",
    "                z[i] = np.log10(z[i])\n",
    "            except:\n",
    "                z[i] = None\n",
    "                \n",
    "    if param == 'ne':\n",
    "        zlabel='Carrier Conc., $n_e$ (cm$^{-3}$)'\n",
    "        for i in range(0, len(z)):\n",
    "            try:\n",
    "                z[i] = z[i]/1e20\n",
    "            except:\n",
    "                z[i] = None\n",
    "    elif param =='mob':\n",
    "        zlabel='Mobility, $\\mu_e$ (cm$^{2}$V$^{-1}$s$^{-1}$)'\n",
    "    elif param =='d':\n",
    "        zlabel='Film Thickness, $d$ (nm)'\n",
    "    \n",
    "    xi = np.linspace(min(x), max(x), res)\n",
    "    yi = np.linspace(min(y), max(y), res)\n",
    "    zi = griddata(x, y, z, xi, yi)\n",
    "    \n",
    "    fig = figure(figsize=(9,7))\n",
    "    ax = fig.add_subplot(111)\n",
    "    ax.set_aspect('equal')\n",
    "\n",
    "    S = ax.contour(xi, yi, zi, 10, colors='k')\n",
    "    CF = ax.contourf(xi, yi, zi, 50, cmap='gist_rainbow')\n",
    "    ax.clabel(S, fontsize=15, fmt='%1.1f')\n",
    "    CB = colorbar(CF,  format='%1.1f')\n",
    "    CB.ax.tick_params(labelsize=15)\n",
    "    if zlabel:\n",
    "        CB.set_label(zlabel, fontsize=18)\n",
    "\n",
    "    ax.set_xlabel('x (mm)', fontsize=15)\n",
    "    ax.set_ylabel('y (mm)', fontsize=15)\n",
    "    ax.tick_params(labelsize=15)"
   ]
  },
  {
   "cell_type": "code",
   "execution_count": 11,
   "metadata": {
    "collapsed": false
   },
   "outputs": [],
   "source": [
    "def merge_dict(dict1, dict2):\n",
    "    dict3 = {}\n",
    "    for key in dict1.keys():\n",
    "        d = dict1.get(key).copy()\n",
    "        d.update(dict2.get(key))\n",
    "        dict3[key] = d\n",
    "    return dict3\n",
    "        \n",
    "        "
   ]
  },
  {
   "cell_type": "code",
   "execution_count": 12,
   "metadata": {
    "collapsed": false
   },
   "outputs": [],
   "source": [
    "merged = merge_dict(extracted_R, extracted_T)"
   ]
  },
  {
   "cell_type": "code",
   "execution_count": 13,
   "metadata": {
    "collapsed": false
   },
   "outputs": [],
   "source": [
    "def get_ne(data_dict, mstar = 0.38, varepsilon = 4):\n",
    "    \n",
    "    for key in data_dict.keys():\n",
    "              \n",
    "        #from wp calculate ne and convert to cm^-3\n",
    "        #wp currently in units eV\n",
    "        wpeV = data_dict[key].get('wp')\n",
    "        wp = (wpeV*e)*2*pi/h\n",
    "        \n",
    "        #calculate ne\n",
    "        \n",
    "        ne = (wp**2*mstar*m0*e0/e**2)/1e6\n",
    "        \n",
    "        #add to original dictionary\n",
    "        #data_dict[key]['ne'] = ne\n",
    "        data_dict[key]['ne'] = ne\n",
    "        \n",
    "        "
   ]
  },
  {
   "cell_type": "code",
   "execution_count": 14,
   "metadata": {
    "collapsed": false
   },
   "outputs": [],
   "source": [
    "def get_rho(data_dict):\n",
    "    for  key in data_dict.keys():\n",
    "        Rs = data_dict[key].get('Rs')\n",
    "        d = data_dict[key].get('d')\n",
    "        try:\n",
    "            rho = Rs*(d*1e-7)        \n",
    "            data_dict[key]['rho'] = rho\n",
    "        except:\n",
    "            data_dict[key]['rho'] = None\n",
    "        \n",
    "    "
   ]
  },
  {
   "cell_type": "code",
   "execution_count": 15,
   "metadata": {
    "collapsed": false
   },
   "outputs": [],
   "source": [
    "get_rho(merged)"
   ]
  },
  {
   "cell_type": "code",
   "execution_count": 16,
   "metadata": {
    "collapsed": false
   },
   "outputs": [],
   "source": [
    "def get_mob(data_dict):\n",
    "    for key in data_dict.keys():\n",
    "        try:\n",
    "            rho = data_dict[key].get('rho')\n",
    "            ne = data_dict[key].get('ne')\n",
    "            mob = 1/(ne*e*rho)\n",
    "            data_dict[key]['mob'] = mob\n",
    "        except:\n",
    "            data_dict[key]['mob'] = None\n",
    "            \n",
    "    "
   ]
  },
  {
   "cell_type": "code",
   "execution_count": 17,
   "metadata": {
    "collapsed": true
   },
   "outputs": [],
   "source": [
    "get_ne(merged)\n",
    "get_mob(merged)"
   ]
  },
  {
   "cell_type": "code",
   "execution_count": 18,
   "metadata": {
    "collapsed": false
   },
   "outputs": [],
   "source": [
    "\n",
    "#contour_plot(merged, 'd')\n"
   ]
  },
  {
   "cell_type": "code",
   "execution_count": 19,
   "metadata": {
    "collapsed": false
   },
   "outputs": [],
   "source": [
    "def plot_scatter(data_dict):\n",
    "    ne = []\n",
    "    mob = []\n",
    "    d= []\n",
    "    cond = []\n",
    "    for key in data_dict.keys():\n",
    "        try:\n",
    "            c = 1/data_dict[key].get('rho') \n",
    "            cond.append(c)\n",
    "            \n",
    "        \n",
    "            \n",
    "            ne.append(data_dict[key].get('ne'))\n",
    "            mob.append(data_dict[key].get('mob'))\n",
    "            d.append(data_dict[key].get('d'))\n",
    "            \n",
    "            \n",
    "        except:\n",
    "            next\n",
    "        \n",
    "    fig = figure(figsize=(11,7))\n",
    "    ax = fig.add_subplot(111)\n",
    "    sizes = [50]*len(ne)\n",
    "    \n",
    "    sc = ax.scatter(ne, mob, c=d, s=sizes)\n",
    "    ax.set_xlabel('$n_e$ (cm$^{-3}$)', size=18)\n",
    "    ax.set_ylabel('$\\mu_e$ (cm$^{2}$V$^{-1}$s$^{-1}$)', size=18)\n",
    "    ax.tick_params(labelsize=15)\n",
    "    CB = colorbar(sc)\n",
    "    CB.set_label('Thickness, $d$ (nm)', size=18)\n",
    "    CB.ax.tick_params(labelsize=15)\n",
    "    \n",
    "    \n",
    "    \n",
    "        \n",
    "        \n",
    "    \n",
    "            "
   ]
  },
  {
   "cell_type": "code",
   "execution_count": 20,
   "metadata": {
    "collapsed": false
   },
   "outputs": [],
   "source": [
    "\n",
    "#plot_scatter(merged)"
   ]
  },
  {
   "cell_type": "code",
   "execution_count": 21,
   "metadata": {
    "collapsed": false
   },
   "outputs": [],
   "source": [
    "#contour_plot(merged, 'd')"
   ]
  },
  {
   "cell_type": "code",
   "execution_count": 22,
   "metadata": {
    "collapsed": false
   },
   "outputs": [],
   "source": [
    "#contour_plot(merged, 'ne')"
   ]
  },
  {
   "cell_type": "code",
   "execution_count": 23,
   "metadata": {
    "collapsed": false
   },
   "outputs": [],
   "source": [
    "#contour_plot(merged, 'mob')"
   ]
  },
  {
   "cell_type": "code",
   "execution_count": 24,
   "metadata": {
    "collapsed": false
   },
   "outputs": [],
   "source": [
    "def get_XPS(path):\n",
    "    f = open (path, 'rb')\n",
    "    reader = csv.reader(f)\n",
    "    data = []\n",
    "    data_dict = {}\n",
    "    #x, y = relabel_T_coords()\n",
    "    header = reader.next()\n",
    "    print header\n",
    "       \n",
    "   \n",
    "    for line in reader:\n",
    "        \n",
    "        \n",
    "        item = [float(x) for x in line[:3]]\n",
    "        \n",
    "        \n",
    "        \n",
    "        data_dict['%s %s' % (item[0], item[1])] = {'x': item[0], \n",
    "                                                   'y': item[1],\n",
    "                                                   'z': item[2]}\n",
    "                                             #'wp': item[3]}\n",
    "                                            \n",
    "    return data_dict\n",
    "    "
   ]
  },
  {
   "cell_type": "code",
   "execution_count": 25,
   "metadata": {
    "collapsed": false
   },
   "outputs": [
    {
     "name": "stdout",
     "output_type": "stream",
     "text": [
      "['x', 'y', '', 'C 1s at%', 'O 1s at%', 'Zn 2p at%', 'Cl 2p at%', 'S 2p at%', '', '', '']\n"
     ]
    }
   ],
   "source": [
    "comp = get_XPS(XPS_data)\n"
   ]
  },
  {
   "cell_type": "code",
   "execution_count": 26,
   "metadata": {
    "collapsed": false,
    "scrolled": true
   },
   "outputs": [
    {
     "name": "stdout",
     "output_type": "stream",
     "text": [
      "do nothing\n",
      "do nothing\n",
      "do nothing\n"
     ]
    },
    {
     "data": {
      "text/plain": [
       "[None,\n",
       " None,\n",
       " None,\n",
       " None,\n",
       " None,\n",
       " None,\n",
       " None,\n",
       " None,\n",
       " None,\n",
       " None,\n",
       " None,\n",
       " None,\n",
       " None,\n",
       " None]"
      ]
     },
     "execution_count": 26,
     "metadata": {},
     "output_type": "execute_result"
    },
    {
     "data": {
      "image/png": "[encoded data removed]",
      "text/plain": [
       "<matplotlib.figure.Figure at 0x7fae9b40fc10>"
      ]
     },
     "metadata": {},
     "output_type": "display_data"
    }
   ],
   "source": [
    "\n",
    "x = []\n",
    "n = []\n",
    "mob = []\n",
    "rho = []\n",
    "for item in comp:\n",
    "    c = comp[item].get('z', None)*100\n",
    "    ln = merged[item].get('ne', None)/1e20\n",
    "    \n",
    "    if (c>1 and ln<2):\n",
    "        print 'do nothing'\n",
    "    else:\n",
    "        x.append(comp[item].get('z', None)*100)\n",
    "        n.append(merged[item].get('ne', None)/1e20)\n",
    "        mob.append(merged[item].get('mob', None))\n",
    "        rho.append(merged[item].get('rho', None))\n",
    "\n",
    "\n",
    "xx = np.linspace(0,0.06,100)\n",
    "\n",
    "yy = []\n",
    "nZnO = 81.408\n",
    "nAl = 26.981\n",
    "rhoZnO = 5.61\n",
    "\n",
    "for i in range(len(xx)):\n",
    "    yy.append((xx[i]*(rhoZnO/nZnO))*6.022e23)\n",
    "    \n",
    "\n",
    "\n",
    "\n",
    "f, (ax1, ax2, ax3) = plt.subplots(3, figsize=(10,30))\n",
    "f.subplots_adjust(hspace=0.05)\n",
    "\n",
    "ax1.plot(x,n, '+', markersize=18, color='black')\n",
    "ax1.set_ylim([0, 4.5])\n",
    "ax1.set_ylabel(r'$n_e$ ($\\times10^{20}$ cm$^{-3}$)', fontsize = 25, color='black')\n",
    "ax1.plot(np.array(xx)*100,np.array(yy)/1e20, '-')\n",
    "ax2.plot(x,mob, 'x', markersize=18, color='black')\n",
    "ax2.set_ylim([0, 22])\n",
    "ax2.set_ylabel(r'$\\mu_e$ (cm$^{2}$V$^{-1}$s$^{-1}$)', fontsize = 25, color='black')\n",
    "ax3.plot(x,rho,'s', markersize=18, color='black', fillstyle='none')\n",
    "ax3.set_ylabel(r'$\\rho$ ($\\Omega$.cm)', fontsize=25)\n",
    "ax3.set_yscale('log')\n",
    "ax3.set_xlabel('Al/Zn ratio (%)', fontsize = 25)\n",
    "ax1.tick_params(labelsize = 15)\n",
    "ax2.tick_params(labelsize = 15)\n",
    "ax3.tick_params(labelsize = 15)\n",
    "\n",
    "plt.setp([a.get_xticklabels() for a in f.axes[:-1]], visible=False)\n",
    "    \n",
    "#fig = figure(figsize=(7,7))\n",
    "#fig2 = figure(figsize=(9,7))\n",
    "#ax = fig.add_subplot(111)\n",
    "#ax3 = ax.twinx()\n",
    "#ax2 = fig2.add_subplot(111)\n",
    "#ax.plot(x,n, 'o')\n",
    "#ax.plot(np.array(xx)*100,yy)\n",
    "#ax3.plot(x,mob, 'o', color='red')\n",
    "#ax.set_yscale('log')\n",
    "#ax.set_xlim([0,5])\n",
    "#ax.set_ylim([0,5e20])\n",
    "#S =ax2.scatter(n,mob,c=x, s=50)\n",
    "#CB = colorbar(S)\n",
    "    \n",
    "    "
   ]
  },
  {
   "cell_type": "code",
   "execution_count": 27,
   "metadata": {
    "collapsed": false
   },
   "outputs": [
    {
     "data": {
      "image/png": "[encoded data removed]",
      "text/plain": [
       "<matplotlib.figure.Figure at 0x7fae99dc7850>"
      ]
     },
     "metadata": {},
     "output_type": "display_data"
    }
   ],
   "source": [
    "x = []\n",
    "n = []\n",
    "mob = []\n",
    "rho = []\n",
    "for item in comp:\n",
    "    c = comp[item].get('z', None)*100\n",
    "        \n",
    "    if (c>6):\n",
    "        print 'do nothing'\n",
    "    else:\n",
    "        x.append(comp[item].get('z', None)*100)\n",
    "        n.append(merged[item].get('ne', None)/1e20)\n",
    "        mob.append(merged[item].get('mob', None))\n",
    "        rho.append(merged[item].get('rho', None))\n",
    "\n",
    "fig = figure(figsize=(9,7))\n",
    "ax = fig.add_subplot(111)\n",
    "S =ax.scatter(n,mob,c=x, s=50)\n",
    "CB = colorbar(S)\n"
   ]
  },
  {
   "cell_type": "code",
   "execution_count": 28,
   "metadata": {
    "collapsed": false
   },
   "outputs": [],
   "source": [
    "#build an app to fit extended seto model\n",
    "\n",
    "def seto(x, nt, L, muii=0):\n",
    "    einf = 4.0\n",
    "    T = 300\n",
    "    \n",
    "    mu0 = (e*L)/(sqrt(2*pi*0.38*m0*kb*T)) #internal mobility m2V-1s-1\n",
    "    \n",
    "    phiB = ((e**2*nt)/(8*einf*e0*array(x)*1e6)) # Barrier height in J\n",
    "\n",
    "    museto = 1e4*mu0*exp(-(phiB/(kb*T))) # Seto intergrain mobility cm2V-1s-1\n",
    "    return museto\n",
    "    "
   ]
  },
  {
   "cell_type": "code",
   "execution_count": 29,
   "metadata": {
    "collapsed": false
   },
   "outputs": [
    {
     "data": {
      "image/png": "[encoded data removed]",
      "text/plain": [
       "<matplotlib.figure.Figure at 0x7fae99ef24d0>"
      ]
     },
     "metadata": {},
     "output_type": "display_data"
    }
   ],
   "source": [
    "def plotnvsmob(nt, L):\n",
    "    x = n\n",
    "    fig = figure(figsize(7,7))\n",
    "    ax = fig.add_subplot(111)\n",
    "    museto = seto(x, nt, L)\n",
    "    ax.plot(x, museto, '-')\n",
    "    \n",
    "from ipywidgets import *\n",
    "nt_s = FloatSlider(min=1e14, max=1e15, step=1e13, value = 1e14)\n",
    "L_s = FloatSlider(min = 1e-9, max = 1e-7, step=1e-9, value = 1e-8)\n",
    "\n",
    "interactive(plotnvsmob, nt=nt_s, L=L_s)\n"
   ]
  },
  {
   "cell_type": "code",
   "execution_count": null,
   "metadata": {
    "collapsed": true
   },
   "outputs": [],
   "source": []
  }
 ],
 "metadata": {
  "kernelspec": {
   "display_name": "Python 2",
   "language": "python",
   "name": "python2"
  },
  "language_info": {
   "codemirror_mode": {
    "name": "ipython",
    "version": 2
   },
   "file_extension": ".py",
   "mimetype": "text/x-python",
   "name": "python",
   "nbconvert_exporter": "python",
   "pygments_lexer": "ipython2",
   "version": "2.7.11+"
  }
 },
 "nbformat": 4,
 "nbformat_minor": 0
}
