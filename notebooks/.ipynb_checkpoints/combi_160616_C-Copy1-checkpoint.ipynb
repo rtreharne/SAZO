{
 "cells": [
  {
   "cell_type": "code",
   "execution_count": 1,
   "metadata": {
    "collapsed": false
   },
   "outputs": [
    {
     "name": "stdout",
     "output_type": "stream",
     "text": [
      "Using matplotlib backend: TkAgg\n",
      "Populating the interactive namespace from numpy and matplotlib\n"
     ]
    }
   ],
   "source": [
    "%pylab\n",
    "e = 1.602e-19 #electronic charge\n",
    "h = 6.63e-34 #Planck's constant\n",
    "e0 = 8.85e-12 #Permittivity of free space\n",
    "m0 = 9.11e-31 #Free electron mass"
   ]
  },
  {
   "cell_type": "code",
   "execution_count": 2,
   "metadata": {
    "collapsed": true
   },
   "outputs": [],
   "source": [
    "import os\n",
    "import sys\n",
    "import csv\n",
    "scripts_path = os.path.abspath(os.path.join('../scripts/'))\n",
    "data_path = os.path.abspath(os.path.join('../data/'))\n",
    "sys.path.append(scripts_path)\n",
    "sys.path.append(data_path)\n",
    "    "
   ]
  },
  {
   "cell_type": "code",
   "execution_count": 3,
   "metadata": {
    "collapsed": false
   },
   "outputs": [
    {
     "data": {
      "text/plain": [
       "'/home/treharne/Documents/projects/SAZO/scripts'"
      ]
     },
     "execution_count": 3,
     "metadata": {},
     "output_type": "execute_result"
    }
   ],
   "source": [
    "scripts_path"
   ]
  },
  {
   "cell_type": "code",
   "execution_count": 4,
   "metadata": {
    "collapsed": false
   },
   "outputs": [],
   "source": [
    "T_data = data_path + '/T/160616_C_extracted.txt'\n",
    "R_data = data_path + '/4PP/160616_C.dat'"
   ]
  },
  {
   "cell_type": "code",
   "execution_count": 5,
   "metadata": {
    "collapsed": false
   },
   "outputs": [],
   "source": [
    "def read_T_data(path):\n",
    "    f = open (path, 'rb')\n",
    "    reader = csv.reader(f)\n",
    "    data = []\n",
    "    data_dict = {}\n",
    "    x, y = relabel_T_coords()\n",
    "    coords = np.transpose([x,y])\n",
    "   \n",
    "    for i, line in zip(coords, reader):\n",
    "       \n",
    "        item = [float(x) for x in line[0].split(' ')]\n",
    "        \n",
    "        data_dict['%s %s' % (i[0], i[1])] = {'x': i[0], \n",
    "                                             'y': i[1],\n",
    "                                             'd': item[2],\n",
    "                                             'wp': item[3]}\n",
    "                                            \n",
    "    return data_dict\n"
   ]
  },
  {
   "cell_type": "code",
   "execution_count": 6,
   "metadata": {
    "collapsed": false
   },
   "outputs": [],
   "source": [
    "def read_R_data(path):\n",
    "    f = open(path, 'rb')\n",
    "    reader = csv.reader(f)\n",
    "    headers = reader.next()\n",
    "    data = []\n",
    "    data_dict = {}\n",
    "    x, y = relabel_T_coords()\n",
    "    coords = np.transpose([x,y])\n",
    "    for i, line in zip(coords, reader):\n",
    "        \n",
    "        \n",
    "        \n",
    "        item = []\n",
    "        for x in line:\n",
    "            try:\n",
    "                item.append(float(x))\n",
    "                \n",
    "        \n",
    "            except:\n",
    "                item.append(None)\n",
    "                \n",
    "        if item[2]:\n",
    "            item[2] = item[2]*4.532\n",
    "        \n",
    "        data_dict['%s %s' % (line[0], line[1])] = {'x': line[0], \n",
    "                                                   'y': line[1],\n",
    "                                                   'Rs': item[2]}\n",
    "    return data_dict\n",
    "                                             \n",
    "        "
   ]
  },
  {
   "cell_type": "code",
   "execution_count": 7,
   "metadata": {
    "collapsed": false
   },
   "outputs": [],
   "source": [
    "def relabel_T_coords():\n",
    "    x = []\n",
    "    y = []\n",
    "    for i in range(0, 10):\n",
    "    \n",
    "        for j in range(0, 10):\n",
    "            x.append((j-4.5)*10)\n",
    "            y.append((4.5-i)*10)\n",
    "    \n",
    "    \n",
    "    return x, y"
   ]
  },
  {
   "cell_type": "code",
   "execution_count": 8,
   "metadata": {
    "collapsed": false
   },
   "outputs": [],
   "source": [
    "extracted_T = read_T_data(T_data)\n",
    "extracted_R = read_R_data(R_data)"
   ]
  },
  {
   "cell_type": "code",
   "execution_count": 9,
   "metadata": {
    "collapsed": false
   },
   "outputs": [],
   "source": [
    "def getxyz(data, param):\n",
    "    count = 0\n",
    "    x = []\n",
    "    y = []\n",
    "    z = []\n",
    "    for key in data.keys():\n",
    "        x.append(data.get(key, None).get('x', None))\n",
    "        y.append(data.get(key, None).get('y', None))\n",
    "        z.append(data.get(key, None).get(param, None))\n",
    "    return x, y, z\n",
    "    \n",
    "    "
   ]
  },
  {
   "cell_type": "code",
   "execution_count": 10,
   "metadata": {
    "collapsed": false
   },
   "outputs": [],
   "source": [
    "def contour_plot(data, param, res=50, scale='linear'):\n",
    "    x, y, z = getxyz(data, param)\n",
    "    zlabel = None\n",
    "    \n",
    "    if scale == 'log':\n",
    "        for i in range (0, len(z)):\n",
    "            try: \n",
    "                z[i] = np.log10(z[i])\n",
    "            except:\n",
    "                z[i] = None\n",
    "                \n",
    "    if param == 'ne':\n",
    "        zlabel='Carrier Conc., $n_e$ (cm$^{-3}$)'\n",
    "        for i in range(0, len(z)):\n",
    "            try:\n",
    "                z[i] = z[i]/1e20\n",
    "            except:\n",
    "                z[i] = None\n",
    "    elif param =='mob':\n",
    "        zlabel='Mobility, $\\mu_e$ (cm$^{2}$V$^{-1}$s$^{-1}$)'\n",
    "    elif param =='d':\n",
    "        zlabel='Film Thickness, $d$ (nm)'\n",
    "    \n",
    "    xi = np.linspace(min(x), max(x), res)\n",
    "    yi = np.linspace(min(y), max(y), res)\n",
    "    zi = griddata(x, y, z, xi, yi)\n",
    "    \n",
    "    fig = figure(figsize=(9,7))\n",
    "    ax = fig.add_subplot(111)\n",
    "    ax.set_aspect('equal')\n",
    "\n",
    "    S = ax.contour(xi, yi, zi, 10, colors='k')\n",
    "    CF = ax.contourf(xi, yi, zi, 50, cmap='gist_rainbow')\n",
    "    ax.clabel(S, fontsize=15, fmt='%1.1f')\n",
    "    CB = colorbar(CF,  format='%1.1f')\n",
    "    CB.ax.tick_params(labelsize=15)\n",
    "    if zlabel:\n",
    "        CB.set_label(zlabel, fontsize=18)\n",
    "\n",
    "    ax.set_xlabel('x (mm)', fontsize=15)\n",
    "    ax.set_ylabel('y (mm)', fontsize=15)\n",
    "    ax.tick_params(labelsize=15)"
   ]
  },
  {
   "cell_type": "code",
   "execution_count": 11,
   "metadata": {
    "collapsed": false
   },
   "outputs": [],
   "source": [
    "def merge_dict(dict1, dict2):\n",
    "    dict3 = {}\n",
    "    for key in dict1.keys():\n",
    "        d = dict1.get(key).copy()\n",
    "        d.update(dict2.get(key))\n",
    "        dict3[key] = d\n",
    "    return dict3\n",
    "        \n",
    "        "
   ]
  },
  {
   "cell_type": "code",
   "execution_count": 12,
   "metadata": {
    "collapsed": false
   },
   "outputs": [],
   "source": [
    "merged = merge_dict(extracted_R, extracted_T)"
   ]
  },
  {
   "cell_type": "code",
   "execution_count": 13,
   "metadata": {
    "collapsed": false
   },
   "outputs": [],
   "source": [
    "def get_ne(data_dict, mstar = 0.38, varepsilon = 4):\n",
    "    \n",
    "    for key in data_dict.keys():\n",
    "              \n",
    "        #from wp calculate ne and convert to cm^-3\n",
    "        #wp currently in units eV\n",
    "        wpeV = data_dict[key].get('wp')\n",
    "        wp = (wpeV*e)*2*pi/h\n",
    "        \n",
    "        #calculate ne\n",
    "        \n",
    "        ne = (wp**2*mstar*m0*e0/e**2)/1e6\n",
    "        \n",
    "        #add to original dictionary\n",
    "        #data_dict[key]['ne'] = ne\n",
    "        data_dict[key]['ne'] = ne\n",
    "        \n",
    "        "
   ]
  },
  {
   "cell_type": "code",
   "execution_count": 14,
   "metadata": {
    "collapsed": false
   },
   "outputs": [],
   "source": [
    "def get_rho(data_dict):\n",
    "    for  key in data_dict.keys():\n",
    "        Rs = data_dict[key].get('Rs')\n",
    "        d = data_dict[key].get('d')\n",
    "        try:\n",
    "            rho = Rs*(d*1e-7)        \n",
    "            data_dict[key]['rho'] = rho\n",
    "        except:\n",
    "            data_dict[key]['rho'] = None\n",
    "        \n",
    "    "
   ]
  },
  {
   "cell_type": "code",
   "execution_count": 15,
   "metadata": {
    "collapsed": false
   },
   "outputs": [],
   "source": [
    "get_rho(merged)"
   ]
  },
  {
   "cell_type": "code",
   "execution_count": 16,
   "metadata": {
    "collapsed": false
   },
   "outputs": [],
   "source": [
    "def get_mob(data_dict):\n",
    "    for key in data_dict.keys():\n",
    "        try:\n",
    "            rho = data_dict[key].get('rho')\n",
    "            ne = data_dict[key].get('ne')\n",
    "            mob = 1/(ne*e*rho)\n",
    "            data_dict[key]['mob'] = mob\n",
    "        except:\n",
    "            data_dict[key]['mob'] = None\n",
    "            \n",
    "    "
   ]
  },
  {
   "cell_type": "code",
   "execution_count": 17,
   "metadata": {
    "collapsed": true
   },
   "outputs": [],
   "source": [
    "get_ne(merged)\n",
    "get_mob(merged)"
   ]
  },
  {
   "cell_type": "code",
   "execution_count": 18,
   "metadata": {
    "collapsed": false
   },
   "outputs": [],
   "source": [
    "\n",
    "contour_plot(merged, 'd')\n"
   ]
  },
  {
   "cell_type": "code",
   "execution_count": 19,
   "metadata": {
    "collapsed": false
   },
   "outputs": [],
   "source": [
    "def plot_scatter(data_dict):\n",
    "    ne = []\n",
    "    mob = []\n",
    "    d= []\n",
    "    cond = []\n",
    "    for key in data_dict.keys():\n",
    "        try:\n",
    "            c = 1/data_dict[key].get('rho') \n",
    "            cond.append(c)\n",
    "            \n",
    "        \n",
    "            \n",
    "            ne.append(data_dict[key].get('ne'))\n",
    "            mob.append(data_dict[key].get('mob'))\n",
    "            d.append(data_dict[key].get('d'))\n",
    "            \n",
    "            \n",
    "        except:\n",
    "            next\n",
    "        \n",
    "    fig = figure(figsize=(11,7))\n",
    "    ax = fig.add_subplot(111)\n",
    "    sizes = [50]*len(ne)\n",
    "    \n",
    "    sc = ax.scatter(ne, mob, c=d, s=sizes)\n",
    "    ax.set_xlabel('$n_e$ (cm$^{-3}$)', size=18)\n",
    "    ax.set_ylabel('$\\mu_e$ (cm$^{2}$V$^{-1}$s$^{-1}$)', size=18)\n",
    "    ax.tick_params(labelsize=15)\n",
    "    CB = colorbar(sc)\n",
    "    CB.set_label('Thickness, $d$ (nm)', size=18)\n",
    "    CB.ax.tick_params(labelsize=15)\n",
    "    \n",
    "    \n",
    "    \n",
    "        \n",
    "        \n",
    "    \n",
    "            "
   ]
  },
  {
   "cell_type": "code",
   "execution_count": 20,
   "metadata": {
    "collapsed": false
   },
   "outputs": [],
   "source": [
    "\n",
    "plot_scatter(merged)"
   ]
  },
  {
   "cell_type": "code",
   "execution_count": 21,
   "metadata": {
    "collapsed": false
   },
   "outputs": [],
   "source": [
    "contour_plot(merged, 'd')"
   ]
  },
  {
   "cell_type": "code",
   "execution_count": 22,
   "metadata": {
    "collapsed": false
   },
   "outputs": [],
   "source": [
    "contour_plot(merged, 'ne')"
   ]
  },
  {
   "cell_type": "code",
   "execution_count": 23,
   "metadata": {
    "collapsed": false
   },
   "outputs": [],
   "source": [
    "contour_plot(merged, 'mob')"
   ]
  },
  {
   "cell_type": "code",
   "execution_count": null,
   "metadata": {
    "collapsed": true
   },
   "outputs": [],
   "source": []
  }
 ],
 "metadata": {
  "kernelspec": {
   "display_name": "Python 2",
   "language": "python",
   "name": "python2"
  },
  "language_info": {
   "codemirror_mode": {
    "name": "ipython",
    "version": 2
   },
   "file_extension": ".py",
   "mimetype": "text/x-python",
   "name": "python",
   "nbconvert_exporter": "python",
   "pygments_lexer": "ipython2",
   "version": "2.7.6"
  }
 },
 "nbformat": 4,
 "nbformat_minor": 0
}
