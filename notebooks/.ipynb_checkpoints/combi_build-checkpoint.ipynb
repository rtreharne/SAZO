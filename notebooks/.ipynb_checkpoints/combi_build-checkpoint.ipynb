{
 "cells": [
  {
   "cell_type": "code",
   "execution_count": 9,
   "metadata": {
    "collapsed": false
   },
   "outputs": [],
   "source": [
    "%pylab\n",
    "e = 1.602e-19 #electronic charge\n",
    "h = 6.63e-34 #Planck's constant\n",
    "e0 = 8.85e-12 #Permittivity of free space\n",
    "m0 = 9.11e-31 #Free electron mass"
   ]
  },
  {
   "cell_type": "code",
   "execution_count": 10,
   "metadata": {
    "collapsed": true
   },
   "outputs": [],
   "source": [
    "import os\n",
    "import sys\n",
    "import csv\n",
    "scripts_path = os.path.abspath(os.path.join('../scripts/'))\n",
    "data_path = os.path.abspath(os.path.join('../data/'))\n",
    "sys.path.append(scripts_path)\n",
    "sys.path.append(data_path)\n",
    "    "
   ]
  },
  {
   "cell_type": "code",
   "execution_count": 11,
   "metadata": {
    "collapsed": false
   },
   "outputs": [
    {
     "data": {
      "text/plain": [
       "'/home/treharne/Documents/projects/SAZO/scripts'"
      ]
     },
     "execution_count": 11,
     "metadata": {},
     "output_type": "execute_result"
    }
   ],
   "source": [
    "scripts_path"
   ]
  },
  {
   "cell_type": "code",
   "execution_count": 12,
   "metadata": {
    "collapsed": false
   },
   "outputs": [],
   "source": [
    "T_data = data_path + '/T/160609_A_extract_d.txt'\n",
    "R_data = data_path + '/4PP/160609_A.dat'"
   ]
  },
  {
   "cell_type": "code",
   "execution_count": 13,
   "metadata": {
    "collapsed": false
   },
   "outputs": [],
   "source": [
    "def read_T_data(path):\n",
    "    f = open (path, 'rb')\n",
    "    reader = csv.reader(f)\n",
    "    data = []\n",
    "    data_dict = {}\n",
    "    x, y = relabel_T_coords()\n",
    "    coords = np.transpose([x,y])\n",
    "   \n",
    "    for i, line in zip(coords, reader):\n",
    "        item = [float(x) for x in line[0].split(' ')]\n",
    "        \n",
    "        data_dict['%s %s' % (i[0], i[1])] = {'x': i[0], \n",
    "                                             'y': i[1],\n",
    "                                             'd': item[2],\n",
    "                                             'wp': item[3]}\n",
    "                                            \n",
    "    return data_dict\n"
   ]
  },
  {
   "cell_type": "code",
   "execution_count": 14,
   "metadata": {
    "collapsed": false
   },
   "outputs": [],
   "source": [
    "def read_R_data(path):\n",
    "    f = open(path, 'rb')\n",
    "    reader = csv.reader(f)\n",
    "    headers = reader.next()\n",
    "    data = []\n",
    "    data_dict = {}\n",
    "    x, y = relabel_T_coords()\n",
    "    coords = np.transpose([x,y])\n",
    "    for i, line in zip(coords, reader):\n",
    "        \n",
    "        \n",
    "        \n",
    "        item = []\n",
    "        for x in line:\n",
    "            try:\n",
    "                item.append(float(x))\n",
    "                \n",
    "        \n",
    "            except:\n",
    "                item.append(None)\n",
    "                \n",
    "        if item[2]:\n",
    "            item[2] = item[2]*4.532\n",
    "        \n",
    "        data_dict['%s %s' % (line[0], line[1])] = {'x': line[0], \n",
    "                                                   'y': line[1],\n",
    "                                                   'Rs': item[2]}\n",
    "    return data_dict\n",
    "                                             \n",
    "        "
   ]
  },
  {
   "cell_type": "code",
   "execution_count": 15,
   "metadata": {
    "collapsed": false
   },
   "outputs": [],
   "source": [
    "def relabel_T_coords():\n",
    "    x = []\n",
    "    y = []\n",
    "    for i in range(0, 10):\n",
    "        if i % 2 == 0:\n",
    "            for j in range(0, 10):\n",
    "                x.append((j-4.5)*10)\n",
    "                y.append((4.5-i)*10)\n",
    "        else:\n",
    "            for j in range(0, 10):\n",
    "                x.append((4.5 - j)*10)\n",
    "                y.append((4.5-i)*10)\n",
    "    \n",
    "    return x, y"
   ]
  },
  {
   "cell_type": "code",
   "execution_count": 16,
   "metadata": {
    "collapsed": false
   },
   "outputs": [
    {
     "ename": "NameError",
     "evalue": "global name 'np' is not defined",
     "output_type": "error",
     "traceback": [
      "\u001b[1;31m---------------------------------------------------------------------------\u001b[0m",
      "\u001b[1;31mNameError\u001b[0m                                 Traceback (most recent call last)",
      "\u001b[1;32m<ipython-input-16-3d87042d1bd1>\u001b[0m in \u001b[0;36m<module>\u001b[1;34m()\u001b[0m\n\u001b[1;32m----> 1\u001b[1;33m \u001b[0mextracted_T\u001b[0m \u001b[1;33m=\u001b[0m \u001b[0mread_T_data\u001b[0m\u001b[1;33m(\u001b[0m\u001b[0mT_data\u001b[0m\u001b[1;33m)\u001b[0m\u001b[1;33m\u001b[0m\u001b[0m\n\u001b[0m\u001b[0;32m      2\u001b[0m \u001b[0mextracted_R\u001b[0m \u001b[1;33m=\u001b[0m \u001b[0mread_R_data\u001b[0m\u001b[1;33m(\u001b[0m\u001b[0mR_data\u001b[0m\u001b[1;33m)\u001b[0m\u001b[1;33m\u001b[0m\u001b[0m\n",
      "\u001b[1;32m<ipython-input-13-9b3b430b8d9e>\u001b[0m in \u001b[0;36mread_T_data\u001b[1;34m(path)\u001b[0m\n\u001b[0;32m      5\u001b[0m     \u001b[0mdata_dict\u001b[0m \u001b[1;33m=\u001b[0m \u001b[1;33m{\u001b[0m\u001b[1;33m}\u001b[0m\u001b[1;33m\u001b[0m\u001b[0m\n\u001b[0;32m      6\u001b[0m     \u001b[0mx\u001b[0m\u001b[1;33m,\u001b[0m \u001b[0my\u001b[0m \u001b[1;33m=\u001b[0m \u001b[0mrelabel_T_coords\u001b[0m\u001b[1;33m(\u001b[0m\u001b[1;33m)\u001b[0m\u001b[1;33m\u001b[0m\u001b[0m\n\u001b[1;32m----> 7\u001b[1;33m     \u001b[0mcoords\u001b[0m \u001b[1;33m=\u001b[0m \u001b[0mnp\u001b[0m\u001b[1;33m.\u001b[0m\u001b[0mtranspose\u001b[0m\u001b[1;33m(\u001b[0m\u001b[1;33m[\u001b[0m\u001b[0mx\u001b[0m\u001b[1;33m,\u001b[0m\u001b[0my\u001b[0m\u001b[1;33m]\u001b[0m\u001b[1;33m)\u001b[0m\u001b[1;33m\u001b[0m\u001b[0m\n\u001b[0m\u001b[0;32m      8\u001b[0m \u001b[1;33m\u001b[0m\u001b[0m\n\u001b[0;32m      9\u001b[0m     \u001b[1;32mfor\u001b[0m \u001b[0mi\u001b[0m\u001b[1;33m,\u001b[0m \u001b[0mline\u001b[0m \u001b[1;32min\u001b[0m \u001b[0mzip\u001b[0m\u001b[1;33m(\u001b[0m\u001b[0mcoords\u001b[0m\u001b[1;33m,\u001b[0m \u001b[0mreader\u001b[0m\u001b[1;33m)\u001b[0m\u001b[1;33m:\u001b[0m\u001b[1;33m\u001b[0m\u001b[0m\n",
      "\u001b[1;31mNameError\u001b[0m: global name 'np' is not defined"
     ]
    }
   ],
   "source": [
    "extracted_T = read_T_data(T_data)\n",
    "extracted_R = read_R_data(R_data)"
   ]
  },
  {
   "cell_type": "code",
   "execution_count": null,
   "metadata": {
    "collapsed": false
   },
   "outputs": [],
   "source": [
    "def getxyz(data, param):\n",
    "    count = 0\n",
    "    x = []\n",
    "    y = []\n",
    "    z = []\n",
    "    for key in data.keys():\n",
    "        x.append(data.get(key, None).get('x', None))\n",
    "        y.append(data.get(key, None).get('y', None))\n",
    "        z.append(data.get(key, None).get(param, None))\n",
    "    return x, y, z\n",
    "    \n",
    "    "
   ]
  },
  {
   "cell_type": "code",
   "execution_count": null,
   "metadata": {
    "collapsed": false
   },
   "outputs": [],
   "source": [
    "def contour_plot(data, param, res=50, scale='linear'):\n",
    "    x, y, z = getxyz(data, param)\n",
    "    zlabel = None\n",
    "    \n",
    "    if scale == 'log':\n",
    "        for i in range (0, len(z)):\n",
    "            try: \n",
    "                z[i] = np.log10(z[i])\n",
    "            except:\n",
    "                z[i] = None\n",
    "                \n",
    "    if param == 'ne':\n",
    "        zlabel='Carrier Conc., $n_e$ (cm$^{-3}$)'\n",
    "        for i in range(0, len(z)):\n",
    "            try:\n",
    "                z[i] = z[i]/1e20\n",
    "            except:\n",
    "                z[i] = None\n",
    "    \n",
    "    xi = np.linspace(min(x), max(x), res)\n",
    "    yi = np.linspace(min(y), max(y), res)\n",
    "    zi = griddata(x, y, z, xi, yi)\n",
    "    \n",
    "    fig = figure(figsize=(9,7))\n",
    "    ax = fig.add_subplot(111)\n",
    "    ax.set_aspect('equal')\n",
    "\n",
    "    S = ax.contour(xi, yi, zi, 10, colors='k')\n",
    "    CF = ax.contourf(xi, yi, zi, 50, cmap='gist_rainbow')\n",
    "    ax.clabel(S, fontsize=15, fmt='%1.1f')\n",
    "    CB = colorbar(CF,  format='%1.1f')\n",
    "    CB.ax.tick_params(labelsize=15)\n",
    "    if zlabel:\n",
    "        CB.set_label(zlabel, fontsize=18)\n",
    "\n",
    "    ax.set_xlabel('x (mm)', fontsize=15)\n",
    "    ax.set_ylabel('y (mm)', fontsize=15)\n",
    "    ax.tick_params(labelsize=15)"
   ]
  },
  {
   "cell_type": "code",
   "execution_count": null,
   "metadata": {
    "collapsed": false
   },
   "outputs": [],
   "source": [
    "def merge_dict(dict1, dict2):\n",
    "    dict3 = {}\n",
    "    for key in dict1.keys():\n",
    "        d = dict1.get(key).copy()\n",
    "        d.update(dict2.get(key))\n",
    "        dict3[key] = d\n",
    "    return dict3\n",
    "        \n",
    "        "
   ]
  },
  {
   "cell_type": "code",
   "execution_count": null,
   "metadata": {
    "collapsed": false
   },
   "outputs": [],
   "source": [
    "merged = merge_dict(extracted_R, extracted_T)"
   ]
  },
  {
   "cell_type": "code",
   "execution_count": null,
   "metadata": {
    "collapsed": false
   },
   "outputs": [],
   "source": [
    "def get_ne(data_dict, mstar = 0.38, varepsilon = 4):\n",
    "    \n",
    "    for key in data_dict.keys():\n",
    "              \n",
    "        #from wp calculate ne and convert to cm^-3\n",
    "        #wp currently in units eV\n",
    "        wpeV = data_dict[key].get('wp')\n",
    "        wp = (wpeV*e)*2*pi/h\n",
    "        \n",
    "        #calculate ne\n",
    "        \n",
    "        ne = (wp**2*mstar*m0*e0/e**2)/1e6\n",
    "        \n",
    "        #add to original dictionary\n",
    "        #data_dict[key]['ne'] = ne\n",
    "        data_dict[key]['ne'] = ne\n",
    "        \n",
    "        "
   ]
  },
  {
   "cell_type": "code",
   "execution_count": null,
   "metadata": {
    "collapsed": false
   },
   "outputs": [],
   "source": [
    "def get_rho(data_dict):\n",
    "    for  key in data_dict.keys():\n",
    "        Rs = data_dict[key].get('Rs')\n",
    "        d = data_dict[key].get('d')\n",
    "        try:\n",
    "            rho = Rs*(d*1e-7)        \n",
    "            data_dict[key]['rho'] = rho\n",
    "        except:\n",
    "            data_dict[key]['rho'] = None\n",
    "        \n",
    "    "
   ]
  },
  {
   "cell_type": "code",
   "execution_count": null,
   "metadata": {
    "collapsed": false
   },
   "outputs": [],
   "source": [
    "get_rho(merged)"
   ]
  },
  {
   "cell_type": "code",
   "execution_count": null,
   "metadata": {
    "collapsed": false
   },
   "outputs": [],
   "source": [
    "def get_mob(data_dict):\n",
    "    for key in data_dict.keys():\n",
    "        try:\n",
    "            rho = data_dict[key].get('rho')\n",
    "            ne = data_dict[key].get('ne')\n",
    "            mob = 1/(ne*e*rho)\n",
    "            data_dict[key]['mob'] = mob\n",
    "        except:\n",
    "            data_dict[key]['mob'] = None\n",
    "            \n",
    "    "
   ]
  },
  {
   "cell_type": "code",
   "execution_count": null,
   "metadata": {
    "collapsed": true
   },
   "outputs": [],
   "source": [
    "get_ne(merged)\n",
    "get_mob(merged)"
   ]
  },
  {
   "cell_type": "code",
   "execution_count": null,
   "metadata": {
    "collapsed": false
   },
   "outputs": [],
   "source": [
    "\n",
    "contour_plot(merged, 'ne')\n",
    "show()"
   ]
  },
  {
   "cell_type": "code",
   "execution_count": null,
   "metadata": {
    "collapsed": false
   },
   "outputs": [],
   "source": [
    "def plot_scatter(data_dict):\n",
    "    ne = []\n",
    "    mob = []\n",
    "    d= []\n",
    "    cond = []\n",
    "    for key in data_dict.keys():\n",
    "        try:\n",
    "            c = 1/data_dict[key].get('rho') \n",
    "            cond.append(c)\n",
    "            \n",
    "        \n",
    "            \n",
    "            ne.append(data_dict[key].get('ne'))\n",
    "            mob.append(data_dict[key].get('mob'))\n",
    "            d.append(data_dict[key].get('d'))\n",
    "            \n",
    "            \n",
    "        except:\n",
    "            next\n",
    "        \n",
    "    fig = figure(figsize=(11,7))\n",
    "    ax = fig.add_subplot(111)\n",
    "    sizes = [50]*len(ne)\n",
    "    \n",
    "    sc = ax.scatter(ne, mob, c=d, s=sizes)\n",
    "    ax.set_xlabel('$n_e$ (cm$^{-3}$)', size=18)\n",
    "    ax.set_ylabel('$\\mu_e$ (cm$^{2}$V$^{-1}$s$^{-1}$)', size=18)\n",
    "    ax.tick_params(labelsize=15)\n",
    "    CB = colorbar(sc)\n",
    "    CB.set_label('Thickness, $d$ (nm)', size=18)\n",
    "    CB.ax.tick_params(labelsize=15)\n",
    "    \n",
    "    \n",
    "    \n",
    "        \n",
    "        \n",
    "    \n",
    "            "
   ]
  },
  {
   "cell_type": "code",
   "execution_count": null,
   "metadata": {
    "collapsed": false
   },
   "outputs": [],
   "source": [
    "plot_scatter(merged)"
   ]
  },
  {
   "cell_type": "code",
   "execution_count": null,
   "metadata": {
    "collapsed": true
   },
   "outputs": [],
   "source": []
  },
  {
   "cell_type": "code",
   "execution_count": null,
   "metadata": {
    "collapsed": true
   },
   "outputs": [],
   "source": []
  }
 ],
 "metadata": {
  "kernelspec": {
   "display_name": "Python 2",
   "language": "python",
   "name": "python2"
  },
  "language_info": {
   "codemirror_mode": {
    "name": "ipython",
    "version": 2
   },
   "file_extension": ".py",
   "mimetype": "text/x-python",
   "name": "python",
   "nbconvert_exporter": "python",
   "pygments_lexer": "ipython2",
   "version": "2.7.6"
  }
 },
 "nbformat": 4,
 "nbformat_minor": 0
}
